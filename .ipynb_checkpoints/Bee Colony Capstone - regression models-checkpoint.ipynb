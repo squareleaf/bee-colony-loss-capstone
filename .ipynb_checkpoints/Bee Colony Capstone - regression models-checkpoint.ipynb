{
 "cells": [
  {
   "cell_type": "markdown",
   "id": "f4219b70",
   "metadata": {},
   "source": [
    "# Bee Colony Capstone - modeling step, using 3 regression models"
   ]
  },
  {
   "cell_type": "markdown",
   "id": "c55956c7",
   "metadata": {},
   "source": [
    "## Import modules"
   ]
  },
  {
   "cell_type": "code",
   "execution_count": 102,
   "id": "f2f3c58b",
   "metadata": {},
   "outputs": [],
   "source": [
    "import numpy as np\n",
    "import pandas as pd\n",
    "import matplotlib.pyplot as plt\n",
    "import seaborn as sns\n",
    "import time\n",
    "import statsmodels.formula.api as smf\n",
    "\n",
    "from sklearn import linear_model\n",
    "from sklearn import model_selection\n",
    "from sklearn import pipeline\n",
    "from sklearn import svm\n",
    "from sklearn import ensemble\n",
    "from sklearn import metrics\n",
    "from patsy import dmatrices\n",
    "from patsy import dmatrix"
   ]
  },
  {
   "cell_type": "markdown",
   "id": "cc4b1933",
   "metadata": {},
   "source": [
    "## Import data"
   ]
  },
  {
   "cell_type": "code",
   "execution_count": 103,
   "id": "19ed4c83",
   "metadata": {},
   "outputs": [],
   "source": [
    "X_train = pd.read_csv('X_train.csv')\n",
    "X_test = pd.read_csv('X_test.csv')\n",
    "y_train = pd.read_csv('y_train.csv')\n",
    "y_test = pd.read_csv('y_test.csv')\n",
    "\n",
    "y_train = y_train['LogFinalToStart'].ravel()\n",
    "y_test = y_test['LogFinalToStart'].ravel()\n",
    "\n",
    "# This will only be used for the statsmodel formula, prior to indexing removing the unmodified columns\n",
    "bee_colony_data = pd.read_csv('bees_post_eda.csv')"
   ]
  },
  {
   "cell_type": "markdown",
   "id": "9ccc69c7",
   "metadata": {},
   "source": [
    "## Design matrices specification"
   ]
  },
  {
   "cell_type": "code",
   "execution_count": 104,
   "id": "fc62a003",
   "metadata": {},
   "outputs": [
    {
     "name": "stdout",
     "output_type": "stream",
     "text": [
      "['region_west', 'region_midwest', 'region_northeast', 'region_south', 'varroa_mites', 'Pesticides', 'region_west:varroa_mites', 'region_west:Pesticides', 'region_midwest:varroa_mites', 'region_midwest:Pesticides', 'region_northeast:varroa_mites', 'region_northeast:Pesticides', 'region_south:varroa_mites', 'region_south:Pesticides']\n"
     ]
    }
   ],
   "source": [
    "# naive predictors\n",
    "X_train_null = np.ones(shape=y_train.shape[0]).reshape(-1, 1)\n",
    "\n",
    "# Rename the varroa mites column to make it easier to work with\n",
    "X_train.rename(columns = {'Varroa mites': 'varroa_mites'}, inplace=True)\n",
    "X_test.rename(columns = {'Varroa mites': 'varroa_mites'}, inplace=True)\n",
    "\n",
    "# Regions only\n",
    "X_train_regions = X_train[['region_midwest', 'region_northeast', 'region_south', 'region_west']]\n",
    "X_test_regions = X_test[['region_midwest', 'region_northeast', 'region_south', 'region_west']]\n",
    "\n",
    "# Subregions only - breaking the larger regions down further\n",
    "subregion_cols = [col for col in X_train.columns.values.tolist() if col.startswith(\"subregion_\")]\n",
    "X_train_subregions = X_train[subregion_cols]\n",
    "X_test_subregions = X_test[subregion_cols]\n",
    "\n",
    "# All pest and other causes of colony loss columns\n",
    "X_train_all_pests = X_train[['varroa_mites', 'Other pests', 'Diseases', 'Pesticides', 'Other', 'Unknown']]\n",
    "X_test_all_pests = X_test[['varroa_mites', 'Other pests', 'Diseases', 'Pesticides', 'Other', 'Unknown']]\n",
    "\n",
    "# Varroa mites column plus subregion columns\n",
    "# I tried to use the subregion_cols variable here, but I couldn't figure out how to make it work with the mite column\n",
    "X_train_mites_subregions = X_train[['varroa_mites', 'subregion_east north central', 'subregion_east south central',\n",
    "       'subregion_mid atlantic', 'subregion_mountain', 'subregion_new england',\n",
    "       'subregion_pacific', 'subregion_south atlantic',\n",
    "       'subregion_west north central', 'subregion_west south central']]\n",
    "X_test_mites_subregions = X_test[['varroa_mites', 'subregion_east north central', 'subregion_east south central',\n",
    "       'subregion_mid atlantic', 'subregion_mountain', 'subregion_new england',\n",
    "       'subregion_pacific', 'subregion_south atlantic',\n",
    "       'subregion_west north central', 'subregion_west south central']]\n",
    "\n",
    "# Varroa mites data with larger regions\n",
    "X_train_mites_regions = X_train[['varroa_mites', 'region_midwest', 'region_northeast', 'region_south', 'region_west']]\n",
    "X_test_mites_regions = X_test[['varroa_mites', 'region_midwest', 'region_northeast', 'region_south', 'region_west']]\n",
    "\n",
    "# Patsy matrices\n",
    "\n",
    "# Using a negative one to exclude the intercept\n",
    "patsy = \"(region_west + region_midwest + region_northeast + region_south) * (varroa_mites + Pesticides) - 1\"\n",
    "# When I did the encoding or the indexing in the preprocessing step, it stripped out the \n",
    "# plain region / state / subregion columns and replaced them with the dummy columns\n",
    "# So, I went ahead and added the regions together and multiplied them by the varroa mites and pesticides\n",
    "\n",
    "train_model_matrix = dmatrix(patsy, X_train)\n",
    "train_model_matrix_names = train_model_matrix.design_info.column_names\n",
    "\n",
    "test_model_matrix = dmatrix(patsy, X_test)\n",
    "test_model_matrix_names = test_model_matrix.design_info.column_names\n",
    "print(test_model_matrix_names)"
   ]
  },
  {
   "cell_type": "markdown",
   "id": "e6a50410",
   "metadata": {},
   "source": [
    "## Feature coefficients with statsmodels"
   ]
  },
  {
   "cell_type": "code",
   "execution_count": 105,
   "id": "0a521398",
   "metadata": {},
   "outputs": [
    {
     "name": "stdout",
     "output_type": "stream",
     "text": [
      "                            OLS Regression Results                            \n",
      "==============================================================================\n",
      "Dep. Variable:           percent_lost   R-squared:                       0.332\n",
      "Model:                            OLS   Adj. R-squared:                  0.294\n",
      "Method:                 Least Squares   F-statistic:                     8.602\n",
      "Date:                Sat, 12 Mar 2022   Prob (F-statistic):           2.33e-46\n",
      "Time:                        18:56:29   Log-Likelihood:                -2807.2\n",
      "No. Observations:                 878   AIC:                             5712.\n",
      "Df Residuals:                     829   BIC:                             5946.\n",
      "Df Model:                          48                                         \n",
      "Covariance Type:            nonrobust                                         \n",
      "===================================================================================================\n",
      "                                      coef    std err          t      P>|t|      [0.025      0.975]\n",
      "---------------------------------------------------------------------------------------------------\n",
      "Intercept                         411.1521    222.179      1.851      0.065     -24.948     847.253\n",
      "region[T.northeast]                28.0471     16.668      1.683      0.093      -4.670      60.764\n",
      "region[T.south]                    39.3727     20.716      1.901      0.058      -1.289      80.035\n",
      "region[T.west]                     30.9362     17.706      1.747      0.081      -3.817      65.689\n",
      "subregion[T.east south central]    19.1043      7.839      2.437      0.015       3.717      34.492\n",
      "subregion[T.mid atlantic]          16.0905      8.840      1.820      0.069      -1.260      33.441\n",
      "subregion[T.mountain]              17.3550      9.158      1.895      0.058      -0.621      35.331\n",
      "subregion[T.new england]           11.9566      7.866      1.520      0.129      -3.484      27.397\n",
      "subregion[T.pacific]               13.5813      8.570      1.585      0.113      -3.240      30.402\n",
      "subregion[T.south atlantic]        11.1078      6.772      1.640      0.101      -2.184      24.399\n",
      "subregion[T.west north central]    44.5699     24.880      1.791      0.074      -4.266      93.406\n",
      "subregion[T.west south central]     9.1605      6.214      1.474      0.141      -3.037      21.358\n",
      "State[T.Arizona]                -3.015e-12   1.63e-12     -1.852      0.064   -6.21e-12    1.81e-13\n",
      "State[T.Arkansas]                   6.5936      1.962      3.361      0.001       2.743      10.444\n",
      "State[T.California]                 5.6711      2.482      2.285      0.023       0.800      10.542\n",
      "State[T.Colorado]                   3.8372      1.988      1.930      0.054      -0.065       7.739\n",
      "State[T.Connecticut]                5.5656      4.114      1.353      0.176      -2.510      13.641\n",
      "State[T.Florida]                    2.5011      1.471      1.700      0.089      -0.386       5.388\n",
      "State[T.Georgia]                    1.7505      1.478      1.185      0.236      -1.150       4.651\n",
      "State[T.Hawaii]                     1.8648      3.011      0.619      0.536      -4.046       7.776\n",
      "State[T.Idaho]                      1.9886      1.937      1.027      0.305      -1.814       5.791\n",
      "State[T.Illinois]                  55.4491     28.476      1.947      0.052      -0.444     111.343\n",
      "State[T.Indiana]                   53.5351     28.474      1.880      0.060      -2.355     109.425\n",
      "State[T.Iowa]                       6.2215      3.717      1.674      0.095      -1.075      13.518\n",
      "State[T.Kansas]                    11.7450      3.763      3.121      0.002       4.360      19.130\n",
      "State[T.Kentucky]                  -3.2913      1.889     -1.742      0.082      -6.999       0.416\n",
      "State[T.Louisiana]                 -1.3499      1.977     -0.683      0.495      -5.230       2.530\n",
      "State[T.Maine]                   2.383e-15    8.4e-16      2.835      0.005    7.33e-16    4.03e-15\n",
      "State[T.Maryland]                   0.6506      1.633      0.398      0.691      -2.555       3.857\n",
      "State[T.Massachusetts]          -3.762e-16    8.6e-16     -0.437      0.662   -2.06e-15    1.31e-15\n",
      "State[T.Michigan]                  51.6897     28.486      1.815      0.070      -4.224     107.604\n",
      "State[T.Minnesota]                  6.0684      3.758      1.615      0.107      -1.308      13.445\n",
      "State[T.Mississippi]               -5.3223      2.415     -2.204      0.028     -10.063      -0.582\n",
      "State[T.Missouri]                   7.5512      3.744      2.017      0.044       0.203      14.899\n",
      "State[T.Montana]                   -0.3284      2.058     -0.160      0.873      -4.367       3.710\n",
      "State[T.Nebraska]                   4.0028      3.775      1.060      0.289      -3.408      11.413\n",
      "State[T.New Jersey]                 1.7110      3.180      0.538      0.591      -4.531       7.953\n",
      "State[T.New Mexico]                 7.7079      2.354      3.274      0.001       3.087      12.328\n",
      "State[T.New York]                   6.7382      3.108      2.168      0.030       0.638      12.838\n",
      "State[T.North Carolina]             1.3140      1.513      0.868      0.385      -1.656       4.284\n",
      "State[T.North Dakota]               4.5490      3.790      1.200      0.230      -2.891      11.989\n",
      "State[T.Ohio]                      55.2255     28.464      1.940      0.053      -0.645     111.095\n",
      "State[T.Oklahoma]                   3.6237      2.027      1.788      0.074      -0.355       7.603\n",
      "State[T.Oregon]                     2.3513      2.490      0.944      0.345      -2.536       7.238\n",
      "State[T.Pennsylvania]               7.6412      3.122      2.448      0.015       1.513      13.769\n",
      "State[T.South Carolina]            -0.3793      1.522     -0.249      0.803      -3.367       2.608\n",
      "State[T.South Dakota]               4.4321      3.776      1.174      0.241      -2.979      11.843\n",
      "State[T.Tennessee]                 -2.8688      1.971     -1.456      0.146      -6.737       0.999\n",
      "State[T.Texas]                      0.2931      1.882      0.156      0.876      -3.401       3.987\n",
      "State[T.Utah]                       2.0100      1.985      1.013      0.311      -1.885       5.905\n",
      "State[T.Vermont]                    6.3910      4.241      1.507      0.132      -1.934      14.716\n",
      "State[T.Virginia]                   2.9237      1.602      1.826      0.068      -0.220       6.067\n",
      "State[T.Washington]                 3.6940      2.492      1.483      0.139      -1.197       8.585\n",
      "State[T.West Virginia]              2.3472      1.527      1.537      0.125      -0.651       5.345\n",
      "State[T.Wisconsin]                 52.3267     28.440      1.840      0.066      -3.497     108.150\n",
      "State[T.Wyoming]                    2.1398      2.075      1.031      0.303      -1.933       6.213\n",
      "quarter[T.Q2]                      -7.4459      0.545    -13.670      0.000      -8.515      -6.377\n",
      "quarter[T.Q3]                      -4.4341      0.654     -6.785      0.000      -5.717      -3.151\n",
      "quarter[T.Q4]                      -3.7414      0.648     -5.770      0.000      -5.014      -2.469\n",
      "year                               -0.2222      0.124     -1.788      0.074      -0.466       0.022\n",
      "varroa_mites                        0.0324      0.015      2.126      0.034       0.002       0.062\n",
      "Pesticides                          0.0521      0.029      1.804      0.072      -0.005       0.109\n",
      "Diseases                           -0.0188      0.038     -0.492      0.623      -0.094       0.056\n",
      "==============================================================================\n",
      "Omnibus:                      405.086   Durbin-Watson:                   2.131\n",
      "Prob(Omnibus):                  0.000   Jarque-Bera (JB):             3834.160\n",
      "Skew:                           1.860   Prob(JB):                         0.00\n",
      "Kurtosis:                      12.538   Cond. No.                     1.05e+18\n",
      "==============================================================================\n",
      "\n",
      "Notes:\n",
      "[1] Standard Errors assume that the covariance matrix of the errors is correctly specified.\n",
      "[2] The smallest eigenvalue is 3.23e-27. This might indicate that there are\n",
      "strong multicollinearity problems or that the design matrix is singular.\n"
     ]
    }
   ],
   "source": [
    "bee_colony_data.rename(columns = {'Varroa mites': 'varroa_mites', 'Percent lost': 'percent_lost'}, inplace=True)\n",
    "\n",
    "mod = smf.ols(formula='percent_lost ~ region + subregion + State + year + quarter + varroa_mites + Pesticides + Diseases', data=bee_colony_data)\n",
    "res = mod.fit()\n",
    "print(res.summary())"
   ]
  },
  {
   "cell_type": "markdown",
   "id": "a5dd5109",
   "metadata": {},
   "source": [
    "## Set up cross-validator"
   ]
  },
  {
   "cell_type": "code",
   "execution_count": 106,
   "id": "b97e6765",
   "metadata": {},
   "outputs": [],
   "source": [
    "cross_validator = model_selection.KFold(n_splits=5, shuffle=True, random_state=42)"
   ]
  },
  {
   "cell_type": "markdown",
   "id": "71409eeb",
   "metadata": {},
   "source": [
    "## Linear ridge regression"
   ]
  },
  {
   "cell_type": "markdown",
   "id": "30916a21",
   "metadata": {},
   "source": [
    "#### LRR  - create model object"
   ]
  },
  {
   "cell_type": "code",
   "execution_count": 107,
   "id": "5008076f",
   "metadata": {},
   "outputs": [],
   "source": [
    "lr_baseline = linear_model.Ridge(fit_intercept=False, max_iter=500, random_state=42)\n",
    "\n",
    "lr_w_features = linear_model.Ridge(fit_intercept=True, max_iter=500, random_state=42)"
   ]
  },
  {
   "cell_type": "markdown",
   "id": "a0fe08f9",
   "metadata": {},
   "source": [
    "#### LRR - create params object"
   ]
  },
  {
   "cell_type": "code",
   "execution_count": 108,
   "id": "4da54d43",
   "metadata": {},
   "outputs": [],
   "source": [
    "lr_params = {\"model__alpha\": np.logspace(start=-10, stop=2, num=40)}"
   ]
  },
  {
   "cell_type": "markdown",
   "id": "64e731de",
   "metadata": {},
   "source": [
    "#### LRR - create pipeline"
   ]
  },
  {
   "cell_type": "code",
   "execution_count": 109,
   "id": "3c57ef76",
   "metadata": {},
   "outputs": [],
   "source": [
    "lr_pipeline = pipeline.Pipeline(steps=[(\"model\", lr_baseline)])\n",
    "\n",
    "lr_pipeline_w_features = pipeline.Pipeline(steps=[(\"model\", lr_w_features)])"
   ]
  },
  {
   "cell_type": "markdown",
   "id": "69f7f4db",
   "metadata": {},
   "source": [
    "#### LRR - create baseline grid"
   ]
  },
  {
   "cell_type": "code",
   "execution_count": 110,
   "id": "c55d127c",
   "metadata": {},
   "outputs": [],
   "source": [
    "lr_baseline_grid = model_selection.GridSearchCV(\n",
    "                        estimator=lr_pipeline,\n",
    "                        param_grid=lr_params,\n",
    "                        refit=True,\n",
    "                        scoring='neg_mean_absolute_error',\n",
    "                        cv=cross_validator,\n",
    "                        verbose=1\n",
    "                    )\n",
    "\n",
    "lr_grid_w_features = model_selection.GridSearchCV(\n",
    "                        estimator=lr_pipeline_w_features,\n",
    "                        param_grid=lr_params,\n",
    "                        refit=True,\n",
    "                        scoring='neg_mean_absolute_error',\n",
    "                        cv=cross_validator,\n",
    "                        verbose=1\n",
    "                    )"
   ]
  },
  {
   "cell_type": "markdown",
   "id": "95800bc0",
   "metadata": {},
   "source": [
    "### Linear Ridge regression - naive model"
   ]
  },
  {
   "cell_type": "markdown",
   "id": "b07b7652",
   "metadata": {},
   "source": [
    "#### LRR: naive - fit model"
   ]
  },
  {
   "cell_type": "code",
   "execution_count": 111,
   "id": "67a07d0b",
   "metadata": {},
   "outputs": [
    {
     "name": "stdout",
     "output_type": "stream",
     "text": [
      "Fitting 5 folds for each of 40 candidates, totalling 200 fits\n",
      "Elapsed time: 0.32 seconds\n"
     ]
    }
   ],
   "source": [
    "start = time.time()\n",
    "lr_base_mod = lr_baseline_grid.fit(X_train_null, y_train)\n",
    "end = time.time()\n",
    "\n",
    "print(f\"Elapsed time: {end - start:.2f} seconds\")"
   ]
  },
  {
   "cell_type": "markdown",
   "id": "9fb3d6a7",
   "metadata": {},
   "source": [
    "#### LRR: naive - CV score distribution"
   ]
  },
  {
   "cell_type": "code",
   "execution_count": 112,
   "id": "ad816530",
   "metadata": {},
   "outputs": [
    {
     "name": "stdout",
     "output_type": "stream",
     "text": [
      "Elapsed time: 0.01 seconds\n"
     ]
    },
    {
     "data": {
      "text/plain": [
       "<matplotlib.legend.Legend at 0x7f948a072d60>"
      ]
     },
     "execution_count": 112,
     "metadata": {},
     "output_type": "execute_result"
    },
    {
     "data": {
      "image/png": "[encoded data removed]",
      "text/plain": [
       "<Figure size 432x288 with 1 Axes>"
      ]
     },
     "metadata": {
      "needs_background": "light"
     },
     "output_type": "display_data"
    }
   ],
   "source": [
    "lr_base_best_estimator = lr_base_mod.best_estimator_\n",
    "\n",
    "# Distribution of cross-validator score\n",
    "start = time.time()\n",
    "lr_cv_scores = model_selection.cross_val_score(\n",
    "                    lr_base_best_estimator,\n",
    "                    X_train_null,\n",
    "                    y_train,\n",
    "                    scoring='neg_mean_absolute_error',\n",
    "                    cv=cross_validator,\n",
    "                )\n",
    "end = time.time()\n",
    "print(f\"Elapsed time: {end - start:.2f} seconds\")\n",
    "\n",
    "# Predict y on training data\n",
    "y_pred_train_naive = lr_base_best_estimator.predict(X_train_null)\n",
    "sns.histplot(y_pred_train_naive).set(title='Naive model: predicted vs observed')\n",
    "plt.axvline(x=np.mean(y_train), ymin=0, ymax=12, label='observed', color='green')\n",
    "plt.legend()"
   ]
  },
  {
   "cell_type": "markdown",
   "id": "21e97dc7",
   "metadata": {},
   "source": [
    "#### LRR: naive - train / test comparison"
   ]
  },
  {
   "cell_type": "code",
   "execution_count": 113,
   "id": "2a6cca58",
   "metadata": {},
   "outputs": [],
   "source": [
    "X_test_null = np.ones(shape=y_test.shape[0]).reshape(-1, 1)\n",
    "\n",
    "# Predict y on test data\n",
    "y_pred_test_naive = lr_base_best_estimator.predict(X_test_null)"
   ]
  },
  {
   "cell_type": "markdown",
   "id": "deb9b711",
   "metadata": {},
   "source": [
    "#### LRR: naive - calculate metrics"
   ]
  },
  {
   "cell_type": "code",
   "execution_count": 114,
   "id": "2edcb8ef",
   "metadata": {},
   "outputs": [
    {
     "name": "stdout",
     "output_type": "stream",
     "text": [
      "Mean train CV score: -0.066\n",
      "Train MAE:  0.050\n",
      "Test MAE:  0.050\n",
      "Train R-squared: -0.014\n",
      "Test R-squared: -0.020\n",
      "Train RMSE:  0.103\n",
      "Test RMSE:  0.084\n"
     ]
    }
   ],
   "source": [
    "print(f\"Mean train CV score: {np.mean(lr_cv_scores): .3f}\")\n",
    "\n",
    "print(f\"Train MAE: {metrics.median_absolute_error(y_true=y_train, y_pred=y_pred_train_naive): .3f}\")\n",
    "print(f\"Test MAE: {metrics.median_absolute_error(y_true=y_test, y_pred=y_pred_test_naive): .3f}\")\n",
    "print(f\"Train R-squared: {metrics.r2_score(y_true=y_train, y_pred=y_pred_train_naive): .3f}\")\n",
    "print(f\"Test R-squared: {metrics.r2_score(y_true=y_test, y_pred=y_pred_test_naive): .3f}\")\n",
    "print(f\"Train RMSE: {metrics.mean_squared_error(y_true=y_train, y_pred=y_pred_train_naive, squared=False): .3f}\")\n",
    "print(f\"Test RMSE: {metrics.mean_squared_error(y_true=y_test, y_pred=y_pred_test_naive, squared=False): .3f}\")"
   ]
  },
  {
   "cell_type": "markdown",
   "id": "177189b2",
   "metadata": {},
   "source": [
    "### Linear Ridge regression - with feature data"
   ]
  },
  {
   "cell_type": "markdown",
   "id": "9726ee7c",
   "metadata": {},
   "source": [
    "#### LRR: with features - fit model - predictor: regions"
   ]
  },
  {
   "cell_type": "code",
   "execution_count": 115,
   "id": "0d0fcb74",
   "metadata": {},
   "outputs": [
    {
     "name": "stdout",
     "output_type": "stream",
     "text": [
      "Fitting 5 folds for each of 40 candidates, totalling 200 fits\n",
      "Elapsed time: 0.66 seconds\n"
     ]
    }
   ],
   "source": [
    "start = time.time()\n",
    "lr_regions_mod = lr_grid_w_features.fit(X_train_regions, y_train)\n",
    "end = time.time()\n",
    "print(f\"Elapsed time: {end - start:.2f} seconds\")"
   ]
  },
  {
   "cell_type": "markdown",
   "id": "d7433484",
   "metadata": {},
   "source": [
    "#### LRR: with features - CV score distribution - predictor: regions"
   ]
  },
  {
   "cell_type": "code",
   "execution_count": 116,
   "id": "d8204019",
   "metadata": {},
   "outputs": [
    {
     "name": "stdout",
     "output_type": "stream",
     "text": [
      "Elapsed time: 0.02 seconds\n"
     ]
    },
    {
     "data": {
      "text/plain": [
       "<matplotlib.legend.Legend at 0x7f9481283b50>"
      ]
     },
     "execution_count": 116,
     "metadata": {},
     "output_type": "execute_result"
    },
    {
     "data": {
      "image/png": "[encoded data removed]",
      "text/plain": [
       "<Figure size 432x288 with 1 Axes>"
      ]
     },
     "metadata": {
      "needs_background": "light"
     },
     "output_type": "display_data"
    }
   ],
   "source": [
    "lr_regions_best_estimator = lr_regions_mod.best_estimator_\n",
    "\n",
    "# Distribution of cross-val score\n",
    "start = time.time()\n",
    "lr_cv_scores_regions = model_selection.cross_val_score(\n",
    "                    lr_regions_best_estimator,\n",
    "                    X_train_regions,\n",
    "                    y_train,\n",
    "                    scoring='neg_mean_absolute_error',\n",
    "                    cv=cross_validator,\n",
    "                )\n",
    "end = time.time()\n",
    "print(f\"Elapsed time: {end - start:.2f} seconds\")\n",
    "\n",
    "# Predict y on training data\n",
    "y_train_lr_pred_regions = lr_regions_best_estimator.predict(X_train_regions)\n",
    "sns.histplot(y_train_lr_pred_regions).set(title='Predicted vs observed - training data - regions')\n",
    "plt.axvline(x=np.mean(y_train), ymin=0, ymax=12, label='observed', color='green')\n",
    "plt.legend()"
   ]
  },
  {
   "cell_type": "markdown",
   "id": "168a89f6",
   "metadata": {},
   "source": [
    "#### LRR: with features - metrics - predictor: regions"
   ]
  },
  {
   "cell_type": "code",
   "execution_count": 117,
   "id": "c72d1e21",
   "metadata": {},
   "outputs": [
    {
     "name": "stdout",
     "output_type": "stream",
     "text": [
      "Mean train CV score: -0.066\n",
      "Train MAE:  0.049\n",
      "Test MAE:  0.052\n",
      "Train R-squared:  0.036\n",
      "Test R-squared:  0.040\n",
      "Train RMSE:  0.100\n",
      "Test RMSE:  0.081\n"
     ]
    }
   ],
   "source": [
    "y_test_lr_pred_regions = lr_regions_best_estimator.predict(X_test_regions)\n",
    "\n",
    "print(f\"Mean train CV score: {np.mean(lr_cv_scores_regions): .3f}\")\n",
    "\n",
    "print(f\"Train MAE: {metrics.median_absolute_error(y_true=y_train, y_pred=y_train_lr_pred_regions): .3f}\")\n",
    "print(f\"Test MAE: {metrics.median_absolute_error(y_true=y_test, y_pred=y_test_lr_pred_regions): .3f}\")\n",
    "print(f\"Train R-squared: {metrics.r2_score(y_true=y_train, y_pred=y_train_lr_pred_regions): .3f}\")\n",
    "print(f\"Test R-squared: {metrics.r2_score(y_true=y_test, y_pred=y_test_lr_pred_regions): .3f}\")\n",
    "print(f\"Train RMSE: {metrics.mean_squared_error(y_true=y_train, y_pred=y_train_lr_pred_regions, squared=False): .3f}\")\n",
    "print(f\"Test RMSE: {metrics.mean_squared_error(y_true=y_test, y_pred=y_test_lr_pred_regions, squared=False): .3f}\")"
   ]
  },
  {
   "cell_type": "markdown",
   "id": "dbef8056",
   "metadata": {},
   "source": [
    "#### LRR: with features - plotting observed vs predicted - predictor: regions"
   ]
  },
  {
   "cell_type": "code",
   "execution_count": 118,
   "id": "823b3f83",
   "metadata": {},
   "outputs": [
    {
     "data": {
      "image/png": "[encoded data removed]",
      "text/plain": [
       "<Figure size 1008x360 with 2 Axes>"
      ]
     },
     "metadata": {
      "needs_background": "light"
     },
     "output_type": "display_data"
    }
   ],
   "source": [
    "fig, (ax1, ax2) = plt.subplots(1, 2, figsize=(14, 5))\n",
    "\n",
    "ax1.scatter(y_test, y_test_lr_pred_regions, c=\"orange\")\n",
    "\n",
    "p1 = max(max(y_test_lr_pred_regions), max(y_test))\n",
    "p2 = min(min(y_test_lr_pred_regions), min(y_test))\n",
    "ax1.plot([p1, p2], [p1, p2], 'b-')\n",
    "ax1.set(xlabel='True colony loss counts', ylabel='Predicted', title=\"Linear Ridge regression on regions - log scale\")\n",
    "\n",
    "ax2.scatter(np.exp(y_test), np.exp(y_test_lr_pred_regions), c=\"orange\")\n",
    "ax2.set(xlabel='True colony loss counts', title=\"Linear Ridge regression on regions - natural scale\")\n",
    "\n",
    "plt.show()"
   ]
  },
  {
   "cell_type": "markdown",
   "id": "21ce42f3",
   "metadata": {},
   "source": [
    "#### Performance\n",
    "\n",
    "The linear ridge regression on just region data performs only slightly better than the naive model. "
   ]
  },
  {
   "cell_type": "markdown",
   "id": "edd50825",
   "metadata": {},
   "source": [
    "#### LRR: with features - fit model - predictor: subregions"
   ]
  },
  {
   "cell_type": "code",
   "execution_count": 119,
   "id": "40f619a9",
   "metadata": {},
   "outputs": [
    {
     "name": "stdout",
     "output_type": "stream",
     "text": [
      "Fitting 5 folds for each of 40 candidates, totalling 200 fits\n",
      "Elapsed time: 0.73 seconds\n"
     ]
    }
   ],
   "source": [
    "start = time.time()\n",
    "lr_subregions = lr_grid_w_features.fit(X_train_subregions, y_train)\n",
    "end = time.time()\n",
    "print(f\"Elapsed time: {end - start:.2f} seconds\")"
   ]
  },
  {
   "cell_type": "markdown",
   "id": "e8d70c37",
   "metadata": {},
   "source": [
    "#### LRR: with features - CV score distribution - predictor: subregions"
   ]
  },
  {
   "cell_type": "code",
   "execution_count": 120,
   "id": "14861cbe",
   "metadata": {},
   "outputs": [
    {
     "name": "stdout",
     "output_type": "stream",
     "text": [
      "Elapsed time: 0.03 seconds\n"
     ]
    },
    {
     "data": {
      "text/plain": [
       "<matplotlib.legend.Legend at 0x7f9468ea8fa0>"
      ]
     },
     "execution_count": 120,
     "metadata": {},
     "output_type": "execute_result"
    },
    {
     "data": {
      "image/png": "[encoded data removed]",
      "text/plain": [
       "<Figure size 432x288 with 1 Axes>"
      ]
     },
     "metadata": {
      "needs_background": "light"
     },
     "output_type": "display_data"
    }
   ],
   "source": [
    "lr_subregions_best_estimator = lr_subregions.best_estimator_\n",
    "\n",
    "# Distribution of cross-val score\n",
    "start = time.time()\n",
    "lr_cv_scores_subregions = model_selection.cross_val_score(\n",
    "                    lr_subregions_best_estimator,\n",
    "                    X_train_subregions,\n",
    "                    y_train,\n",
    "                    scoring='neg_mean_absolute_error',\n",
    "                    cv=cross_validator,\n",
    "                )\n",
    "end = time.time()\n",
    "print(f\"Elapsed time: {end - start:.2f} seconds\")\n",
    "\n",
    "lr_train_pred_subregions = lr_subregions_best_estimator.predict(X_train_subregions)\n",
    "sns.histplot(lr_train_pred_subregions).set(title='Predicted vs observed - training data - subregions')\n",
    "plt.axvline(x=np.mean(y_train), ymin=0, ymax=12, label='observed', color='green')\n",
    "plt.legend()"
   ]
  },
  {
   "cell_type": "markdown",
   "id": "94e2d713",
   "metadata": {},
   "source": [
    "#### LRR: with features - metrics - predictor: subregions"
   ]
  },
  {
   "cell_type": "code",
   "execution_count": 121,
   "id": "18111708",
   "metadata": {},
   "outputs": [
    {
     "name": "stdout",
     "output_type": "stream",
     "text": [
      "Mean train CV score: -0.066\n",
      "Train MAE:  0.052\n",
      "Test MAE:  0.052\n",
      "Train R-squared:  0.057\n",
      "Test R-squared:  0.082\n",
      "Train RMSE:  0.099\n",
      "Test RMSE:  0.080\n"
     ]
    }
   ],
   "source": [
    "lr_subregions_test_pred = lr_subregions_best_estimator.predict(X_test_subregions)\n",
    "\n",
    "print(f\"Mean train CV score: {np.mean(lr_cv_scores_subregions): .3f}\")\n",
    "\n",
    "print(f\"Train MAE: {metrics.median_absolute_error(y_true=y_train, y_pred=lr_train_pred_subregions): .3f}\")\n",
    "print(f\"Test MAE: {metrics.median_absolute_error(y_true=y_test, y_pred=lr_subregions_test_pred): .3f}\")\n",
    "print(f\"Train R-squared: {metrics.r2_score(y_true=y_train, y_pred=lr_train_pred_subregions): .3f}\")\n",
    "print(f\"Test R-squared: {metrics.r2_score(y_true=y_test, y_pred=lr_subregions_test_pred): .3f}\")\n",
    "print(f\"Train RMSE: {metrics.mean_squared_error(y_true=y_train, y_pred=lr_train_pred_subregions, squared=False): .3f}\")\n",
    "print(f\"Test RMSE: {metrics.mean_squared_error(y_true=y_test, y_pred=lr_subregions_test_pred, squared=False): .3f}\")"
   ]
  },
  {
   "cell_type": "markdown",
   "id": "2579ae4d",
   "metadata": {},
   "source": [
    "#### LRR: with features - plotting observed vs predicted - predictor: subregions"
   ]
  },
  {
   "cell_type": "code",
   "execution_count": 122,
   "id": "f35a2acb",
   "metadata": {},
   "outputs": [
    {
     "data": {
      "image/png": "[encoded data removed]",
      "text/plain": [
       "<Figure size 1008x360 with 2 Axes>"
      ]
     },
     "metadata": {
      "needs_background": "light"
     },
     "output_type": "display_data"
    }
   ],
   "source": [
    "fig, (ax1, ax2) = plt.subplots(1, 2, figsize=(14, 5))\n",
    "\n",
    "ax1.scatter(y_test, lr_subregions_test_pred, c=\"orange\")\n",
    "\n",
    "p1 = max(max(lr_subregions_test_pred), max(y_test))\n",
    "p2 = min(min(lr_subregions_test_pred), min(y_test))\n",
    "ax1.plot([p1, p2], [p1, p2], 'b-')\n",
    "ax1.set(xlabel='True colony loss counts - log', ylabel='Predicted', title=\"Linear Ridge regression on subregions - log scale\")\n",
    "\n",
    "ax2.scatter(np.exp(y_test), np.exp(lr_subregions_test_pred), c=\"orange\")\n",
    "ax2.set(xlabel='True colony loss counts', title='Linear ridge regression on subregions - natural scale')\n",
    "\n",
    "plt.show()"
   ]
  },
  {
   "cell_type": "markdown",
   "id": "95df90a3",
   "metadata": {},
   "source": [
    "#### LRR: with features - performance - predictor: subregions\n",
    "\n",
    "Linear ridge regression on subregion data has mixed performance, as compared to the baseline. The model was originally optimized for mean absolute error, which performs worse than the naive model. However, the R-squared is considerably better than the naive model, and the RMSE is marginally better. Test and train results for MAE are equal, indicating that the model is an accurate predictor."
   ]
  },
  {
   "cell_type": "markdown",
   "id": "600c5bd9",
   "metadata": {},
   "source": [
    "#### LRR: with features - fit model - predictor: pests"
   ]
  },
  {
   "cell_type": "code",
   "execution_count": 123,
   "id": "013aebc9",
   "metadata": {},
   "outputs": [
    {
     "name": "stdout",
     "output_type": "stream",
     "text": [
      "Fitting 5 folds for each of 40 candidates, totalling 200 fits\n",
      "Elapsed time: 0.99 seconds\n"
     ]
    }
   ],
   "source": [
    "start = time.time()\n",
    "lr_all_pests_mod = lr_grid_w_features.fit(X_train_all_pests, y_train)\n",
    "end = time.time()\n",
    "print(f\"Elapsed time: {end - start:.2f} seconds\")"
   ]
  },
  {
   "cell_type": "markdown",
   "id": "6b7747c1",
   "metadata": {},
   "source": [
    "#### LRR: with features - CV score distribution - predictor: pests"
   ]
  },
  {
   "cell_type": "code",
   "execution_count": 124,
   "id": "10cb1ae6",
   "metadata": {},
   "outputs": [
    {
     "name": "stdout",
     "output_type": "stream",
     "text": [
      "Elapsed time: 0.07 seconds\n"
     ]
    },
    {
     "data": {
      "text/plain": [
       "<matplotlib.legend.Legend at 0x7f9438c4c670>"
      ]
     },
     "execution_count": 124,
     "metadata": {},
     "output_type": "execute_result"
    },
    {
     "data": {
      "image/png": "[encoded data removed]",
      "text/plain": [
       "<Figure size 432x288 with 1 Axes>"
      ]
     },
     "metadata": {
      "needs_background": "light"
     },
     "output_type": "display_data"
    }
   ],
   "source": [
    "lr_all_pests_best_estimator = lr_all_pests_mod.best_estimator_\n",
    "\n",
    "# Distribution of cross-val score\n",
    "start = time.time()\n",
    "lr_cv_scores_all_pests = model_selection.cross_val_score(\n",
    "                    lr_all_pests_best_estimator,\n",
    "                    X_train_all_pests,\n",
    "                    y_train,\n",
    "                    scoring='neg_mean_absolute_error',\n",
    "                    cv=cross_validator,\n",
    "                )\n",
    "end = time.time()\n",
    "print(f\"Elapsed time: {end - start:.2f} seconds\")\n",
    "\n",
    "lr_train_pred_all_pests = lr_all_pests_best_estimator.predict(X_train_all_pests)\n",
    "sns.histplot(lr_train_pred_all_pests).set(title='Predicted vs observed - training data - all pests')\n",
    "plt.axvline(x=np.mean(y_train), ymin=0, ymax=12, label='observed', color='green')\n",
    "plt.legend()"
   ]
  },
  {
   "cell_type": "markdown",
   "id": "6381786b",
   "metadata": {},
   "source": [
    "#### LRR: with features - metrics - predictor: pests"
   ]
  },
  {
   "cell_type": "code",
   "execution_count": 125,
   "id": "370c395a",
   "metadata": {},
   "outputs": [
    {
     "name": "stdout",
     "output_type": "stream",
     "text": [
      "Mean train CV score: -0.062\n",
      "Train MAE:  0.045\n",
      "Test MAE:  0.046\n",
      "Train R-squared:  0.125\n",
      "Test R-squared:  0.095\n",
      "Train RMSE:  0.095\n",
      "Test RMSE:  0.079\n"
     ]
    }
   ],
   "source": [
    "lr_all_pests_test_pred = lr_all_pests_best_estimator.predict(X_test_all_pests)\n",
    "\n",
    "print(f\"Mean train CV score: {np.mean(lr_cv_scores_all_pests): .3f}\")\n",
    "\n",
    "print(f\"Train MAE: {metrics.median_absolute_error(y_true=y_train, y_pred=lr_train_pred_all_pests): .3f}\")\n",
    "print(f\"Test MAE: {metrics.median_absolute_error(y_true=y_test, y_pred=lr_all_pests_test_pred): .3f}\")\n",
    "print(f\"Train R-squared: {metrics.r2_score(y_true=y_train, y_pred=lr_train_pred_all_pests): .3f}\")\n",
    "print(f\"Test R-squared: {metrics.r2_score(y_true=y_test, y_pred=lr_all_pests_test_pred): .3f}\")\n",
    "print(f\"Train RMSE: {metrics.mean_squared_error(y_true=y_train, y_pred=lr_train_pred_all_pests, squared=False): .3f}\")\n",
    "print(f\"Test RMSE: {metrics.mean_squared_error(y_true=y_test, y_pred=lr_all_pests_test_pred, squared=False): .3f}\")"
   ]
  },
  {
   "cell_type": "markdown",
   "id": "f056642e",
   "metadata": {},
   "source": [
    "#### LRR: with features - plotting observed vs predicted - predictor: pests"
   ]
  },
  {
   "cell_type": "code",
   "execution_count": 126,
   "id": "0fe1448d",
   "metadata": {
    "scrolled": true
   },
   "outputs": [
    {
     "data": {
      "image/png": "[encoded data removed]",
      "text/plain": [
       "<Figure size 1008x360 with 2 Axes>"
      ]
     },
     "metadata": {
      "needs_background": "light"
     },
     "output_type": "display_data"
    }
   ],
   "source": [
    "fig, (ax1, ax2) = plt.subplots(1, 2, figsize=(14, 5))\n",
    "\n",
    "ax1.scatter(y_test, lr_all_pests_test_pred, c=\"orange\")\n",
    "\n",
    "p1 = max(max(lr_all_pests_test_pred), max(y_test))\n",
    "p2 = min(min(lr_all_pests_test_pred), min(y_test))\n",
    "ax1.plot([p1, p2], [p1, p2], 'b-')\n",
    "ax1.set(xlabel='True colony loss counts - log', ylabel='Predicted', title=\"Linear Ridge regression on pests - log scale\")\n",
    "\n",
    "ax2.scatter(np.exp(y_test), np.exp(lr_all_pests_test_pred), c=\"orange\")\n",
    "ax2.set(xlabel='True colony loss counts', title='Linear ridge regression on pests - natural scale')\n",
    "\n",
    "plt.show()"
   ]
  },
  {
   "cell_type": "markdown",
   "id": "d76e1d66",
   "metadata": {},
   "source": [
    "#### LRR: with features - performance - predictor: pests\n",
    "\n",
    "All metrics for linear ridge regression with pest data are better than the baseline, so this is a better model than the baseline. The difference between train and test data indicate that the model may be slightly underfit (e.g. the test RMSE is lower than the training RMSE. "
   ]
  },
  {
   "cell_type": "markdown",
   "id": "d87ccc03",
   "metadata": {},
   "source": [
    "#### LRR: with features - fit model - predictor: varroa mites and regions"
   ]
  },
  {
   "cell_type": "code",
   "execution_count": 127,
   "id": "833053d9",
   "metadata": {},
   "outputs": [
    {
     "name": "stdout",
     "output_type": "stream",
     "text": [
      "Fitting 5 folds for each of 40 candidates, totalling 200 fits\n",
      "Elapsed time: 0.74 seconds\n"
     ]
    }
   ],
   "source": [
    "start = time.time()\n",
    "lr_mites_regions = lr_grid_w_features.fit(X_train_mites_regions, y_train)\n",
    "end = time.time()\n",
    "print(f\"Elapsed time: {end - start:.2f} seconds\")"
   ]
  },
  {
   "cell_type": "markdown",
   "id": "d7aea937",
   "metadata": {},
   "source": [
    "#### LRR: with features - CV score distribution - predictor: mites and regions"
   ]
  },
  {
   "cell_type": "code",
   "execution_count": 128,
   "id": "c025f63c",
   "metadata": {},
   "outputs": [
    {
     "name": "stdout",
     "output_type": "stream",
     "text": [
      "Elapsed time: 0.03 seconds\n"
     ]
    },
    {
     "data": {
      "text/plain": [
       "<matplotlib.legend.Legend at 0x7f94824fb640>"
      ]
     },
     "execution_count": 128,
     "metadata": {},
     "output_type": "execute_result"
    },
    {
     "data": {
      "image/png": "[encoded data removed]",
      "text/plain": [
       "<Figure size 432x288 with 1 Axes>"
      ]
     },
     "metadata": {
      "needs_background": "light"
     },
     "output_type": "display_data"
    }
   ],
   "source": [
    "lr_mites_regions_best_estimator = lr_mites_regions.best_estimator_\n",
    "\n",
    "# Distribution of cross-val score\n",
    "start = time.time()\n",
    "lr_cv_scores_mites_regions = model_selection.cross_val_score(\n",
    "                    lr_mites_regions_best_estimator,\n",
    "                    X_train_mites_regions,\n",
    "                    y_train,\n",
    "                    scoring='neg_mean_absolute_error',\n",
    "                    cv=cross_validator,\n",
    "                )\n",
    "end = time.time()\n",
    "print(f\"Elapsed time: {end - start:.2f} seconds\")\n",
    "\n",
    "lr_train_pred_mites_regions = lr_mites_regions_best_estimator.predict(X_train_mites_regions)\n",
    "sns.histplot(lr_train_pred_mites_regions).set(title='Predicted vs observed - training data - mites and regions')\n",
    "plt.axvline(x=np.mean(y_train), ymin=0, ymax=12, label='observed', color='green')\n",
    "plt.legend()"
   ]
  },
  {
   "cell_type": "markdown",
   "id": "e5e60640",
   "metadata": {},
   "source": [
    "#### LRR: with features - metrics - predictor: mites and regions"
   ]
  },
  {
   "cell_type": "code",
   "execution_count": 129,
   "id": "37456385",
   "metadata": {},
   "outputs": [
    {
     "name": "stdout",
     "output_type": "stream",
     "text": [
      "Mean train CV score: -0.065\n",
      "Train MAE:  0.048\n",
      "Test MAE:  0.050\n",
      "Train R-squared:  0.054\n",
      "Test R-squared:  0.042\n",
      "Train RMSE:  0.099\n",
      "Test RMSE:  0.081\n"
     ]
    }
   ],
   "source": [
    "lr_test_pred_mites_regions = lr_mites_regions_best_estimator.predict(X_test_mites_regions)\n",
    "\n",
    "print(f\"Mean train CV score: {np.mean(lr_cv_scores_mites_regions): .3f}\")\n",
    "\n",
    "print(f\"Train MAE: {metrics.median_absolute_error(y_true=y_train, y_pred=lr_train_pred_mites_regions): .3f}\")\n",
    "print(f\"Test MAE: {metrics.median_absolute_error(y_true=y_test, y_pred=lr_test_pred_mites_regions): .3f}\")\n",
    "print(f\"Train R-squared: {metrics.r2_score(y_true=y_train, y_pred=lr_train_pred_mites_regions): .3f}\")\n",
    "print(f\"Test R-squared: {metrics.r2_score(y_true=y_test, y_pred=lr_test_pred_mites_regions): .3f}\")\n",
    "print(f\"Train RMSE: {metrics.mean_squared_error(y_true=y_train, y_pred=lr_train_pred_mites_regions, squared=False): .3f}\")\n",
    "print(f\"Test RMSE: {metrics.mean_squared_error(y_true=y_test, y_pred=lr_test_pred_mites_regions, squared=False): .3f}\")"
   ]
  },
  {
   "cell_type": "markdown",
   "id": "909cd682",
   "metadata": {},
   "source": [
    "#### LRR: with features - plotting observed vs predicted - predictor: mites and regions"
   ]
  },
  {
   "cell_type": "code",
   "execution_count": 130,
   "id": "07888ddc",
   "metadata": {},
   "outputs": [
    {
     "data": {
      "image/png": "[encoded data removed]",
      "text/plain": [
       "<Figure size 1008x288 with 2 Axes>"
      ]
     },
     "metadata": {
      "needs_background": "light"
     },
     "output_type": "display_data"
    }
   ],
   "source": [
    "fig, (ax1, ax2) = plt.subplots(1, 2, figsize=(14, 4))\n",
    "\n",
    "ax1.scatter(y_test, lr_test_pred_mites_regions, c=\"orange\")\n",
    "\n",
    "p1 = max(max(lr_test_pred_mites_regions), max(y_test))\n",
    "p2 = min(min(lr_test_pred_mites_regions), min(y_test))\n",
    "ax1.plot([p1, p2], [p1, p2], 'b-')\n",
    "ax1.set(xlabel='True colony loss counts - log', ylabel='Predicted', title=\"Linear Ridge regression on mites and regions - log scale\")\n",
    "\n",
    "ax2.scatter(np.exp(y_test), np.exp(lr_test_pred_mites_regions), c=\"orange\")\n",
    "ax2.set(xlabel='True colony loss counts', title=\"Linear Ridge regression on mites and regions - natural scale\")\n",
    "ax2.axis('equal')\n",
    "\n",
    "plt.show()"
   ]
  },
  {
   "cell_type": "markdown",
   "id": "4b5776d5",
   "metadata": {},
   "source": [
    "#### LRR: with features - performance - predictor: mites and region data\n",
    "\n",
    "Linear ridge regression on the varroa mite and region data together has mixed performance, as compared to the baseline. The model was originally optimized for mean absolute error, and performs about the same as the naive model on that metric. However, the R-squared is considerably better than the naive model, and the RMSE is marginally better. Test and train results for MAE are similar, indicating that the model is an accurate predictor."
   ]
  },
  {
   "cell_type": "markdown",
   "id": "ec5ecc58",
   "metadata": {},
   "source": [
    "#### LRR: with features - fit model - predictor: Patsy matrix of mites, pesticides, and regions"
   ]
  },
  {
   "cell_type": "code",
   "execution_count": 131,
   "id": "a0f5f4a9",
   "metadata": {},
   "outputs": [
    {
     "name": "stdout",
     "output_type": "stream",
     "text": [
      "Fitting 5 folds for each of 40 candidates, totalling 200 fits\n",
      "Elapsed time: 0.32 seconds\n"
     ]
    }
   ],
   "source": [
    "start = time.time()\n",
    "lr_matrix_mod = lr_grid_w_features.fit(train_model_matrix, y_train)\n",
    "end = time.time()\n",
    "print(f\"Elapsed time: {end - start:.2f} seconds\")"
   ]
  },
  {
   "cell_type": "markdown",
   "id": "0db458be",
   "metadata": {},
   "source": [
    "#### LRR: with features - CV score distribution - predictor: Patsy matrix of mites, pesticides, and regions"
   ]
  },
  {
   "cell_type": "code",
   "execution_count": 132,
   "id": "aff94adb",
   "metadata": {},
   "outputs": [
    {
     "name": "stdout",
     "output_type": "stream",
     "text": [
      "Elapsed time: 0.01 seconds\n"
     ]
    },
    {
     "data": {
      "text/plain": [
       "<matplotlib.legend.Legend at 0x7f9438bb3190>"
      ]
     },
     "execution_count": 132,
     "metadata": {},
     "output_type": "execute_result"
    },
    {
     "data": {
      "image/png": "[encoded data removed]",
      "text/plain": [
       "<Figure size 432x288 with 1 Axes>"
      ]
     },
     "metadata": {
      "needs_background": "light"
     },
     "output_type": "display_data"
    }
   ],
   "source": [
    "lr_matrix_best_estimator = lr_matrix_mod.best_estimator_\n",
    "\n",
    "# Distribution of cross-val score\n",
    "start = time.time()\n",
    "lr_cv_scores_matrix = model_selection.cross_val_score(\n",
    "                    lr_matrix_best_estimator,\n",
    "                    train_model_matrix,\n",
    "                    y_train,\n",
    "                    scoring='neg_mean_absolute_error',\n",
    "                    cv=cross_validator,\n",
    "                )\n",
    "end = time.time()\n",
    "print(f\"Elapsed time: {end - start:.2f} seconds\")\n",
    "\n",
    "lr_train_pred_matrix = lr_matrix_best_estimator.predict(train_model_matrix)\n",
    "sns.histplot(lr_train_pred_matrix, label='CV scores').set(title='Predicted vs observed - training data - Patsy matrix')\n",
    "plt.axvline(x=np.mean(y_train), ymin=0, ymax=12, label='observed', color='green')\n",
    "plt.legend()"
   ]
  },
  {
   "cell_type": "markdown",
   "id": "0b2c09a7",
   "metadata": {},
   "source": [
    "#### LRR: with features - metrics - predictor: Patsy matrix of mites, pesticides, and regions"
   ]
  },
  {
   "cell_type": "code",
   "execution_count": 133,
   "id": "ac66efee",
   "metadata": {},
   "outputs": [
    {
     "name": "stdout",
     "output_type": "stream",
     "text": [
      "Mean train CV score: -0.065\n",
      "Train MAE:  0.049\n",
      "Test MAE:  0.049\n",
      "Train R-squared:  0.058\n",
      "Test R-squared:  0.042\n",
      "Train RMSE:  0.099\n",
      "Test RMSE:  0.081\n"
     ]
    }
   ],
   "source": [
    "lr_test_pred_matrix = lr_matrix_best_estimator.predict(test_model_matrix)\n",
    "\n",
    "print(f\"Mean train CV score: {np.mean(lr_cv_scores_matrix): .3f}\")\n",
    "\n",
    "print(f\"Train MAE: {metrics.median_absolute_error(y_true=y_train, y_pred=lr_train_pred_matrix): .3f}\")\n",
    "print(f\"Test MAE: {metrics.median_absolute_error(y_true=y_test, y_pred=lr_test_pred_matrix): .3f}\")\n",
    "print(f\"Train R-squared: {metrics.r2_score(y_true=y_train, y_pred=lr_train_pred_matrix): .3f}\")\n",
    "print(f\"Test R-squared: {metrics.r2_score(y_true=y_test, y_pred=lr_test_pred_matrix): .3f}\")\n",
    "print(f\"Train RMSE: {metrics.mean_squared_error(y_true=y_train, y_pred=lr_train_pred_matrix, squared=False): .3f}\")\n",
    "print(f\"Test RMSE: {metrics.mean_squared_error(y_true=y_test, y_pred=lr_test_pred_matrix, squared=False): .3f}\")"
   ]
  },
  {
   "cell_type": "markdown",
   "id": "cdbcf479",
   "metadata": {},
   "source": [
    "#### LRR: with features - plotting observed vs predicted - predictor: Patsy matrix of mites, pesticides, and regions"
   ]
  },
  {
   "cell_type": "code",
   "execution_count": 134,
   "id": "d38610f3",
   "metadata": {},
   "outputs": [
    {
     "data": {
      "image/png": "[encoded data removed]",
      "text/plain": [
       "<Figure size 1008x288 with 2 Axes>"
      ]
     },
     "metadata": {
      "needs_background": "light"
     },
     "output_type": "display_data"
    }
   ],
   "source": [
    "fig, (ax1, ax2) = plt.subplots(1, 2, figsize=(14, 4))\n",
    "\n",
    "ax1.scatter(y_test, lr_test_pred_matrix, c=\"orange\")\n",
    "\n",
    "p1 = max(max(lr_test_pred_matrix), max(y_test))\n",
    "p2 = min(min(lr_test_pred_matrix), min(y_test))\n",
    "ax1.plot([p1, p2], [p1, p2], 'b-')\n",
    "ax1.set(xlabel='True colony loss counts - log', ylabel='Predicted', title=\"Linear Ridge on Patsy matrix - log scale\")\n",
    "\n",
    "ax2.scatter(np.exp(y_test), np.exp(lr_test_pred_matrix), c=\"orange\")\n",
    "ax2.set(xlabel='True colony loss counts', title=\"Linear Ridge on Patsy matrix - natural scale\")\n",
    "ax2.axis('equal')\n",
    "\n",
    "plt.show()"
   ]
  },
  {
   "cell_type": "markdown",
   "id": "0a33c6a6",
   "metadata": {},
   "source": [
    "#### LRR: with features - performance - predictor: Patsy matrix of mites, pesticides, and regions\n",
    "\n",
    "All metrics for linear ridge regression with pest data are better than the baseline, so this is a better model than the baseline. "
   ]
  },
  {
   "cell_type": "markdown",
   "id": "278277a3",
   "metadata": {},
   "source": [
    "### Linear Ridge regression - overall conclusions\n",
    "\n",
    "The two best linear ridge regression models that provide value in their predictive abilities are the model of all the pest data, and the model using the Patsy matrix of varroa mites, pesticides, and region data. Of the two, the model using all the pest data as the predictor is the better model in terms of metric values. However, the Patsy model of varroa mite, pesticide, and region data has closer alignment between the training and testing sets, indicating that the consistency of the Patsy matrix as predictor may be higher."
   ]
  },
  {
   "cell_type": "markdown",
   "id": "822a9f38",
   "metadata": {},
   "source": [
    "## Random Forest regression"
   ]
  },
  {
   "cell_type": "markdown",
   "id": "f9cff82c",
   "metadata": {},
   "source": [
    "#### RF - create model object"
   ]
  },
  {
   "cell_type": "code",
   "execution_count": 135,
   "id": "99097944",
   "metadata": {},
   "outputs": [],
   "source": [
    "rf_base_model = ensemble.RandomForestRegressor(random_state=42, bootstrap = True)"
   ]
  },
  {
   "cell_type": "markdown",
   "id": "5fac24e8",
   "metadata": {},
   "source": [
    "#### RF - create params object"
   ]
  },
  {
   "cell_type": "code",
   "execution_count": 136,
   "id": "d7ae6c97",
   "metadata": {},
   "outputs": [],
   "source": [
    "rf_params = {'model__n_estimators': [50,100,150], \n",
    "             'model__max_depth': [None,4,8], \n",
    "             'model__min_samples_split': np.arange(2,20,5),\n",
    "             'model__max_features': [0.3,0.5,1,'sqrt','auto'],\n",
    "             'model__max_samples': [20]}"
   ]
  },
  {
   "cell_type": "markdown",
   "id": "78a512dd",
   "metadata": {},
   "source": [
    "#### RF - create pipeline"
   ]
  },
  {
   "cell_type": "code",
   "execution_count": 137,
   "id": "0400c794",
   "metadata": {},
   "outputs": [],
   "source": [
    "rf_pipeline = pipeline.Pipeline(steps=[(\"model\", rf_base_model)])"
   ]
  },
  {
   "cell_type": "markdown",
   "id": "36809fad",
   "metadata": {},
   "source": [
    "#### RF - create baseline grid"
   ]
  },
  {
   "cell_type": "code",
   "execution_count": 138,
   "id": "38cea558",
   "metadata": {},
   "outputs": [],
   "source": [
    "rf_baseline_grid = model_selection.GridSearchCV(\n",
    "                        estimator=rf_pipeline,\n",
    "                        param_grid=rf_params,\n",
    "                        refit=True,\n",
    "                        scoring='neg_mean_absolute_error',\n",
    "                        cv=cross_validator,\n",
    "                        verbose=1\n",
    "                    )"
   ]
  },
  {
   "cell_type": "markdown",
   "id": "7b1e5ae3",
   "metadata": {},
   "source": [
    "### Random Forest - naive model"
   ]
  },
  {
   "cell_type": "markdown",
   "id": "493438bf",
   "metadata": {},
   "source": [
    "#### RF: naive - fit model"
   ]
  },
  {
   "cell_type": "code",
   "execution_count": 139,
   "id": "ee85f08e",
   "metadata": {},
   "outputs": [
    {
     "name": "stdout",
     "output_type": "stream",
     "text": [
      "Fitting 5 folds for each of 180 candidates, totalling 900 fits\n",
      "Elapsed time: 79.58 seconds\n"
     ]
    }
   ],
   "source": [
    "start = time.time()\n",
    "rf_base_mod = rf_baseline_grid.fit(X_train_null, y_train)\n",
    "end = time.time()\n",
    "print(f\"Elapsed time: {end - start:.2f} seconds\")"
   ]
  },
  {
   "cell_type": "markdown",
   "id": "c27274e5",
   "metadata": {},
   "source": [
    "#### RF: naive - CV score distribution"
   ]
  },
  {
   "cell_type": "code",
   "execution_count": 140,
   "id": "7bef4f08",
   "metadata": {},
   "outputs": [
    {
     "name": "stdout",
     "output_type": "stream",
     "text": [
      "Elapsed time: 0.54 seconds\n"
     ]
    },
    {
     "data": {
      "image/png": "[encoded data removed]",
      "text/plain": [
       "<Figure size 432x288 with 1 Axes>"
      ]
     },
     "metadata": {
      "needs_background": "light"
     },
     "output_type": "display_data"
    }
   ],
   "source": [
    "rf_base_best_estimator = rf_base_mod.best_estimator_\n",
    "\n",
    "# Distribution of cross-val score\n",
    "start = time.time()\n",
    "rf_cv_scores = model_selection.cross_val_score(\n",
    "                    rf_base_best_estimator,\n",
    "                    X_train_null,\n",
    "                    y_train,\n",
    "                    scoring='neg_mean_absolute_error',\n",
    "                    cv=cross_validator,\n",
    "                )\n",
    "end = time.time()\n",
    "print(f\"Elapsed time: {end - start:.2f} seconds\")\n",
    "\n",
    "rf_train_pred_naive = rf_base_best_estimator.predict(X_train_null)\n",
    "sns.histplot(rf_train_pred_naive).set(title='Random Forest naive model: predicted vs observed')\n",
    "plt.axvline(x=np.mean(y_train), ymin=0, ymax=12, label='observed', color='green')\n",
    "plt.legend()\n",
    "plt.show()"
   ]
  },
  {
   "cell_type": "markdown",
   "id": "c49c4be7",
   "metadata": {},
   "source": [
    "#### RF: naive - train / test comparison"
   ]
  },
  {
   "cell_type": "code",
   "execution_count": 141,
   "id": "717e97e3",
   "metadata": {},
   "outputs": [
    {
     "name": "stdout",
     "output_type": "stream",
     "text": [
      "Mean train CV score: -0.068\n",
      "Train MAE:  0.051\n",
      "Test MAE:  0.051\n",
      "Train R-squared: -0.000\n",
      "Test R-squared: -0.000\n",
      "Train RMSE:  0.102\n",
      "Test RMSE:  0.083\n"
     ]
    }
   ],
   "source": [
    "rf_test_pred_naive = rf_base_best_estimator.predict(X_test_null)\n",
    "\n",
    "print(f\"Mean train CV score: {np.mean(rf_cv_scores): .3f}\")\n",
    "\n",
    "print(f\"Train MAE: {metrics.median_absolute_error(y_true=y_train, y_pred=rf_train_pred_naive): .3f}\")\n",
    "print(f\"Test MAE: {metrics.median_absolute_error(y_true=y_test, y_pred=rf_test_pred_naive): .3f}\")\n",
    "print(f\"Train R-squared: {metrics.r2_score(y_true=y_train, y_pred=rf_train_pred_naive): .3f}\")\n",
    "print(f\"Test R-squared: {metrics.r2_score(y_true=y_test, y_pred=rf_test_pred_naive): .3f}\")\n",
    "print(f\"Train RMSE: {metrics.mean_squared_error(y_true=y_train, y_pred=rf_train_pred_naive, squared=False): .3f}\")\n",
    "print(f\"Test RMSE: {metrics.mean_squared_error(y_true=y_test, y_pred=rf_test_pred_naive, squared=False): .3f}\")"
   ]
  },
  {
   "cell_type": "markdown",
   "id": "2ea18fbf",
   "metadata": {},
   "source": [
    "### Random Forest: with features"
   ]
  },
  {
   "cell_type": "markdown",
   "id": "6ddcd474",
   "metadata": {},
   "source": [
    "#### RF: with features - fit model - predictor: regions"
   ]
  },
  {
   "cell_type": "code",
   "execution_count": 142,
   "id": "01a80c9a",
   "metadata": {},
   "outputs": [
    {
     "name": "stdout",
     "output_type": "stream",
     "text": [
      "Fitting 5 folds for each of 180 candidates, totalling 900 fits\n",
      "Elapsed time: 80.22 seconds\n"
     ]
    }
   ],
   "source": [
    "start = time.time()\n",
    "rf_regions_mod = rf_baseline_grid.fit(X_train_regions, y_train)\n",
    "end = time.time()\n",
    "print(f\"Elapsed time: {end - start:.2f} seconds\")"
   ]
  },
  {
   "cell_type": "markdown",
   "id": "c46003ac",
   "metadata": {},
   "source": [
    "#### RF: with features - CV score distribution - predictor: regions"
   ]
  },
  {
   "cell_type": "code",
   "execution_count": 143,
   "id": "02d377da",
   "metadata": {},
   "outputs": [
    {
     "name": "stdout",
     "output_type": "stream",
     "text": [
      "Elapsed time: 0.70 seconds\n"
     ]
    },
    {
     "data": {
      "text/plain": [
       "<matplotlib.legend.Legend at 0x7f94820dcf70>"
      ]
     },
     "execution_count": 143,
     "metadata": {},
     "output_type": "execute_result"
    },
    {
     "data": {
      "image/png": "[encoded data removed]",
      "text/plain": [
       "<Figure size 432x288 with 1 Axes>"
      ]
     },
     "metadata": {
      "needs_background": "light"
     },
     "output_type": "display_data"
    }
   ],
   "source": [
    "rf_regions_best_estimator = rf_regions_mod.best_estimator_\n",
    "\n",
    "# Distribution of cross-val score\n",
    "start = time.time()\n",
    "rf_cv_scores_regions = model_selection.cross_val_score(\n",
    "                    rf_regions_best_estimator,\n",
    "                    X_train_regions,\n",
    "                    y_train,\n",
    "                    scoring='neg_mean_absolute_error',\n",
    "                    cv=cross_validator\n",
    "                )\n",
    "end = time.time()\n",
    "print(f\"Elapsed time: {end - start:.2f} seconds\")\n",
    "\n",
    "rf_regions_train_pred = rf_regions_best_estimator.predict(X_train_regions)\n",
    "sns.histplot(rf_regions_train_pred).set(title='Predicted vs observed - training data - regions')\n",
    "plt.axvline(x=np.mean(y_train), ymin=0, ymax=12, label='observed', color='green')\n",
    "plt.legend()"
   ]
  },
  {
   "cell_type": "markdown",
   "id": "2f77e565",
   "metadata": {},
   "source": [
    "#### RF: with features - metrics - predictor: regions"
   ]
  },
  {
   "cell_type": "code",
   "execution_count": 144,
   "id": "e3c5d793",
   "metadata": {},
   "outputs": [
    {
     "name": "stdout",
     "output_type": "stream",
     "text": [
      "Mean train CV score: -0.066\n",
      "Train MAE:  0.052\n",
      "Test MAE:  0.053\n",
      "Train R-squared:  0.028\n",
      "Test R-squared:  0.028\n",
      "Train RMSE:  0.100\n",
      "Test RMSE:  0.082\n"
     ]
    }
   ],
   "source": [
    "rf_regions_test_pred = rf_regions_best_estimator.predict(X_test_regions)\n",
    "\n",
    "print(f\"Mean train CV score: {np.mean(rf_cv_scores_regions): .3f}\")\n",
    "\n",
    "print(f\"Train MAE: {metrics.median_absolute_error(y_true=y_train, y_pred=rf_regions_train_pred): .3f}\")\n",
    "print(f\"Test MAE: {metrics.median_absolute_error(y_true=y_test, y_pred=rf_regions_test_pred): .3f}\")\n",
    "print(f\"Train R-squared: {metrics.r2_score(y_true=y_train, y_pred=rf_regions_train_pred): .3f}\")\n",
    "print(f\"Test R-squared: {metrics.r2_score(y_true=y_test, y_pred=rf_regions_test_pred): .3f}\")\n",
    "print(f\"Train RMSE: {metrics.mean_squared_error(y_true=y_train, y_pred=rf_regions_train_pred, squared=False): .3f}\")\n",
    "print(f\"Test RMSE: {metrics.mean_squared_error(y_true=y_test, y_pred=rf_regions_test_pred, squared=False): .3f}\")"
   ]
  },
  {
   "cell_type": "markdown",
   "id": "bb1a4d90",
   "metadata": {},
   "source": [
    "#### RF: with features - plotting observed vs predicted - predictor: regions"
   ]
  },
  {
   "cell_type": "code",
   "execution_count": 145,
   "id": "b96ccc86",
   "metadata": {},
   "outputs": [
    {
     "data": {
      "image/png": "[encoded data removed]",
      "text/plain": [
       "<Figure size 1008x360 with 2 Axes>"
      ]
     },
     "metadata": {
      "needs_background": "light"
     },
     "output_type": "display_data"
    }
   ],
   "source": [
    "fig, (ax1, ax2) = plt.subplots(1, 2, figsize=(14, 5))\n",
    "\n",
    "ax1.scatter(y_test, rf_regions_test_pred, c=\"orange\")\n",
    "\n",
    "p1 = max(max(rf_regions_test_pred), max(y_test))\n",
    "p2 = min(min(rf_regions_test_pred), min(y_test))\n",
    "ax1.plot([p1, p2], [p1, p2], 'b-')\n",
    "ax1.set(xlabel='True colony loss counts - log', ylabel='Predicted', title=\"Random Forest regression on regions - log scale\")\n",
    "\n",
    "ax2.scatter(np.exp(y_test), np.exp(rf_regions_test_pred), c=\"orange\")\n",
    "ax2.set(xlabel='True colony loss counts', title='Random Forest regression on regions - natural scale')\n",
    "\n",
    "plt.show()"
   ]
  },
  {
   "cell_type": "markdown",
   "id": "019a0b2c",
   "metadata": {},
   "source": [
    "#### RF: with features - performance - predictor: regions\n",
    "\n",
    "The metric that was optimized for, mean absolute error, is worse for random forest regression using region data than it is for naive data. The R-squared value is a little better, and the RMSE is roughly the same."
   ]
  },
  {
   "cell_type": "markdown",
   "id": "0926c2c2",
   "metadata": {},
   "source": [
    "#### RF: with features - fit model - predictor: subregions"
   ]
  },
  {
   "cell_type": "code",
   "execution_count": 146,
   "id": "0b0da697",
   "metadata": {},
   "outputs": [
    {
     "name": "stdout",
     "output_type": "stream",
     "text": [
      "Fitting 5 folds for each of 180 candidates, totalling 900 fits\n",
      "Elapsed time: 82.38 seconds\n"
     ]
    }
   ],
   "source": [
    "start = time.time()\n",
    "rf_subregions_mod = rf_baseline_grid.fit(X_train_subregions, y_train)\n",
    "end = time.time()\n",
    "print(f\"Elapsed time: {end - start:.2f} seconds\")"
   ]
  },
  {
   "cell_type": "markdown",
   "id": "99c12042",
   "metadata": {},
   "source": [
    "#### RF: with features - CV score distribution - predictor: subregions"
   ]
  },
  {
   "cell_type": "code",
   "execution_count": 147,
   "id": "fe011347",
   "metadata": {},
   "outputs": [
    {
     "name": "stdout",
     "output_type": "stream",
     "text": [
      "Elapsed time: 0.67 seconds\n"
     ]
    },
    {
     "data": {
      "text/plain": [
       "<matplotlib.legend.Legend at 0x7f94812acb20>"
      ]
     },
     "execution_count": 147,
     "metadata": {},
     "output_type": "execute_result"
    },
    {
     "data": {
      "image/png": "[encoded data removed]",
      "text/plain": [
       "<Figure size 432x288 with 1 Axes>"
      ]
     },
     "metadata": {
      "needs_background": "light"
     },
     "output_type": "display_data"
    }
   ],
   "source": [
    "rf_subregions_best_estimator = rf_subregions_mod.best_estimator_\n",
    "\n",
    "# Distribution of cross-val score\n",
    "start = time.time()\n",
    "rf_cv_scores_subregions = model_selection.cross_val_score(\n",
    "                    rf_subregions_best_estimator,\n",
    "                    X_train_subregions,\n",
    "                    y_train,\n",
    "                    scoring='neg_mean_absolute_error',\n",
    "                    cv=cross_validator\n",
    "                )\n",
    "end = time.time()\n",
    "print(f\"Elapsed time: {end - start:.2f} seconds\")\n",
    "\n",
    "rf_subregions_train_pred = rf_subregions_best_estimator.predict(X_train_subregions)\n",
    "sns.histplot(rf_subregions_train_pred).set(title='Predicted vs observed - training data - subregions')\n",
    "plt.axvline(x=np.mean(y_train), ymin=0, ymax=12, label='observed', color='green')\n",
    "plt.legend()"
   ]
  },
  {
   "cell_type": "markdown",
   "id": "d0fb720f",
   "metadata": {},
   "source": [
    "#### RF: with features - metrics - predictor: subregions"
   ]
  },
  {
   "cell_type": "code",
   "execution_count": 148,
   "id": "c5d2905a",
   "metadata": {},
   "outputs": [
    {
     "name": "stdout",
     "output_type": "stream",
     "text": [
      "Mean train CV score: -0.066\n",
      "Train MAE:  0.052\n",
      "Test MAE:  0.055\n",
      "Train R-squared:  0.047\n",
      "Test R-squared:  0.074\n",
      "Train RMSE:  0.099\n",
      "Test RMSE:  0.080\n"
     ]
    }
   ],
   "source": [
    "rf_subregions_test_pred = rf_subregions_best_estimator.predict(X_test_subregions)\n",
    "\n",
    "print(f\"Mean train CV score: {np.mean(rf_cv_scores_subregions): .3f}\")\n",
    "\n",
    "print(f\"Train MAE: {metrics.median_absolute_error(y_true=y_train, y_pred=rf_subregions_train_pred): .3f}\")\n",
    "print(f\"Test MAE: {metrics.median_absolute_error(y_true=y_test, y_pred=rf_subregions_test_pred): .3f}\")\n",
    "print(f\"Train R-squared: {metrics.r2_score(y_true=y_train, y_pred=rf_subregions_train_pred): .3f}\")\n",
    "print(f\"Test R-squared: {metrics.r2_score(y_true=y_test, y_pred=rf_subregions_test_pred): .3f}\")\n",
    "print(f\"Train RMSE: {metrics.mean_squared_error(y_true=y_train, y_pred=rf_subregions_train_pred, squared=False): .3f}\")\n",
    "print(f\"Test RMSE: {metrics.mean_squared_error(y_true=y_test, y_pred=rf_subregions_test_pred, squared=False): .3f}\")"
   ]
  },
  {
   "cell_type": "markdown",
   "id": "c05cc1fc",
   "metadata": {},
   "source": [
    "#### RF: with features - plotting observed vs predicted - predictor: subregions"
   ]
  },
  {
   "cell_type": "code",
   "execution_count": 149,
   "id": "081d51d8",
   "metadata": {},
   "outputs": [
    {
     "data": {
      "image/png": "[encoded data removed]",
      "text/plain": [
       "<Figure size 1008x360 with 2 Axes>"
      ]
     },
     "metadata": {
      "needs_background": "light"
     },
     "output_type": "display_data"
    }
   ],
   "source": [
    "fig, (ax1, ax2) = plt.subplots(1, 2, figsize=(14, 5))\n",
    "\n",
    "ax1.scatter(y_test, rf_subregions_test_pred, c=\"orange\")\n",
    "\n",
    "p1 = max(max(rf_subregions_test_pred), max(y_test))\n",
    "p2 = min(min(rf_subregions_test_pred), min(y_test))\n",
    "ax1.plot([p1, p2], [p1, p2], 'b-')\n",
    "ax1.set(xlabel='True colony loss counts - log', ylabel='Predicted', title=\"Random Forest on subregions - log scale\")\n",
    "\n",
    "ax2.scatter(np.exp(y_test), np.exp(rf_subregions_test_pred), c=\"orange\")\n",
    "ax2.set(xlabel='True colony loss counts', title='Random Forest on subregions - natural scale')\n",
    "\n",
    "plt.show()"
   ]
  },
  {
   "cell_type": "markdown",
   "id": "50491b95",
   "metadata": {},
   "source": [
    "#### RF: with features - performance - predictor: subregions\n",
    "\n",
    "The random forest regressor with subregion data performs similarly to the same regressor with region data: worse than the naive model for the MAE metric, better for R-squared, and roughly the same for RMSE. "
   ]
  },
  {
   "cell_type": "markdown",
   "id": "8edcacdd",
   "metadata": {},
   "source": [
    "#### RF: with features - fit model - predictor: pests"
   ]
  },
  {
   "cell_type": "code",
   "execution_count": null,
   "id": "8e65ec19",
   "metadata": {},
   "outputs": [
    {
     "name": "stdout",
     "output_type": "stream",
     "text": [
      "Fitting 5 folds for each of 180 candidates, totalling 900 fits\n"
     ]
    }
   ],
   "source": [
    "start = time.time()\n",
    "rf_all_pests_mod = rf_baseline_grid.fit(X_train_all_pests, y_train)\n",
    "end = time.time()\n",
    "print(f\"Elapsed time: {end - start:.2f} seconds\")"
   ]
  },
  {
   "cell_type": "markdown",
   "id": "3cf09559",
   "metadata": {},
   "source": [
    "#### RF: with features - CV score distribution - predictor: pests"
   ]
  },
  {
   "cell_type": "code",
   "execution_count": null,
   "id": "a94eaeba",
   "metadata": {},
   "outputs": [],
   "source": [
    "rf_all_pests_best_estimator = rf_all_pests_mod.best_estimator_\n",
    "\n",
    "# Distribution of cross-val score\n",
    "start = time.time()\n",
    "rf_cv_scores_all_pests = model_selection.cross_val_score(\n",
    "                    rf_all_pests_best_estimator,\n",
    "                    X_train_all_pests,\n",
    "                    y_train,\n",
    "                    scoring='neg_mean_absolute_error',\n",
    "                    cv=cross_validator\n",
    "                )\n",
    "end = time.time()\n",
    "print(f\"Elapsed time: {end - start:.2f} seconds\")\n",
    "\n",
    "rf_all_pests_train_pred = rf_all_pests_best_estimator.predict(X_train_all_pests)\n",
    "sns.histplot(rf_all_pests_train_pred).set(title='Predicted vs observed - training data - all pests')\n",
    "plt.axvline(x=np.mean(y_train), ymin=0, ymax=12, label='observed', color='green')\n",
    "plt.legend()"
   ]
  },
  {
   "cell_type": "markdown",
   "id": "50f720a3",
   "metadata": {},
   "source": [
    "#### RF: with features - metrics - predictor: pests"
   ]
  },
  {
   "cell_type": "code",
   "execution_count": null,
   "id": "3ccad04f",
   "metadata": {},
   "outputs": [],
   "source": [
    "rf_all_pests_test_pred = rf_all_pests_best_estimator.predict(X_test_all_pests)\n",
    "\n",
    "print(f\"Mean train CV score: {np.mean(rf_cv_scores_all_pests): .3f}\")\n",
    "\n",
    "print(f\"Train MAE: {metrics.median_absolute_error(y_true=y_train, y_pred=rf_all_pests_train_pred): .3f}\")\n",
    "print(f\"Test MAE: {metrics.median_absolute_error(y_true=y_test, y_pred=rf_all_pests_test_pred): .3f}\")\n",
    "print(f\"Train R-squared: {metrics.r2_score(y_true=y_train, y_pred=rf_all_pests_train_pred): .3f}\")\n",
    "print(f\"Test R-squared: {metrics.r2_score(y_true=y_test, y_pred=rf_all_pests_test_pred): .3f}\")\n",
    "print(f\"Train RMSE: {metrics.mean_squared_error(y_true=y_train, y_pred=rf_all_pests_train_pred, squared=False): .3f}\")\n",
    "print(f\"Test RMSE: {metrics.mean_squared_error(y_true=y_test, y_pred=rf_all_pests_test_pred, squared=False): .3f}\")"
   ]
  },
  {
   "cell_type": "markdown",
   "id": "baff4e90",
   "metadata": {},
   "source": [
    "#### RF: with features - plotting observed vs predicted - predictor: pests"
   ]
  },
  {
   "cell_type": "code",
   "execution_count": null,
   "id": "3b897957",
   "metadata": {},
   "outputs": [],
   "source": [
    "fig, (ax1, ax2) = plt.subplots(1, 2, figsize=(14, 5))\n",
    "\n",
    "ax1.scatter(y_test, rf_all_pests_test_pred, c=\"orange\")\n",
    "\n",
    "p1 = max(max(rf_all_pests_test_pred), max(y_test))\n",
    "p2 = min(min(rf_all_pests_test_pred), min(y_test))\n",
    "ax1.plot([p1, p2], [p1, p2], 'b-')\n",
    "ax1.set(xlabel='True colony loss counts - log', ylabel='Predicted', title=\"Random Forest regression on pests - log scale\")\n",
    "\n",
    "ax2.scatter(np.exp(y_test), np.exp(rf_all_pests_test_pred), c=\"orange\")\n",
    "ax2.set(xlabel='True colony loss counts', title='Random Forest regression on pests - natural scale')\n",
    "\n",
    "plt.show()"
   ]
  },
  {
   "cell_type": "markdown",
   "id": "56b8837d",
   "metadata": {},
   "source": [
    "#### RF: with features - performance - predictor: pest data\n",
    "\n",
    "The random forest regressor with all pest data performs better than the naive model by all metrics. The RMSE comparison between the train and test sets shows slight underfitting, while the commparison on MAE shows slight overfitting. Given that the metrics show the opposite in terms of fit, and both are slight, this seems like a promising model. "
   ]
  },
  {
   "cell_type": "markdown",
   "id": "f5a361fe",
   "metadata": {},
   "source": [
    "#### RF: with features - fit model - predictor: mites and regions"
   ]
  },
  {
   "cell_type": "code",
   "execution_count": null,
   "id": "85d08c29",
   "metadata": {},
   "outputs": [],
   "source": [
    "start = time.time()\n",
    "rf_mites_regions = rf_baseline_grid.fit(X_train_mites_regions, y_train)\n",
    "end = time.time()\n",
    "print(f\"Elapsed time: {end - start:.2f} seconds\")"
   ]
  },
  {
   "cell_type": "markdown",
   "id": "34fa0b2a",
   "metadata": {},
   "source": [
    "#### RF: with features - CV score distribution - predictor: mites and regions"
   ]
  },
  {
   "cell_type": "code",
   "execution_count": null,
   "id": "a04f949d",
   "metadata": {},
   "outputs": [],
   "source": [
    "rf_mites_regions_best_estimator = rf_mites_regions.best_estimator_\n",
    "\n",
    "# Distribution of cross-val score\n",
    "start = time.time()\n",
    "rf_cv_scores_mites_regions = model_selection.cross_val_score(\n",
    "                    rf_mites_regions_best_estimator,\n",
    "                    X_train_mites_regions,\n",
    "                    y_train,\n",
    "                    scoring='neg_mean_absolute_error',\n",
    "                    cv=cross_validator,\n",
    "                )\n",
    "end = time.time()\n",
    "print(f\"Elapsed time: {end - start:.2f} seconds\")\n",
    "\n",
    "train_pred_rf_mites_regions = rf_mites_regions_best_estimator.predict(X_train_mites_regions)\n",
    "sns.histplot(train_pred_rf_mites_regions).set(title='Predicted vs observed - training data - mites and regions')\n",
    "plt.axvline(x=np.mean(y_train), ymin=0, ymax=12, label='observed', color='green')\n",
    "plt.legend()"
   ]
  },
  {
   "cell_type": "markdown",
   "id": "78c4ef48",
   "metadata": {},
   "source": [
    "#### RF: with features - metrics - predictor: mites and regions"
   ]
  },
  {
   "cell_type": "code",
   "execution_count": null,
   "id": "f72fed93",
   "metadata": {},
   "outputs": [],
   "source": [
    "test_pred_rf_mites_regions = rf_mites_regions_best_estimator.predict(X_test_mites_regions)\n",
    "\n",
    "print(f\"Mean train CV score: {np.mean(rf_cv_scores_mites_regions): .3f}\")\n",
    "\n",
    "print(f\"Train MAE: {metrics.median_absolute_error(y_true=y_train, y_pred=train_pred_rf_mites_regions): .3f}\")\n",
    "print(f\"Test MAE: {metrics.median_absolute_error(y_true=y_test, y_pred=test_pred_rf_mites_regions): .3f}\")\n",
    "print(f\"Train R-squared: {metrics.r2_score(y_true=y_train, y_pred=train_pred_rf_mites_regions): .3f}\")\n",
    "print(f\"Test R-squared: {metrics.r2_score(y_true=y_test, y_pred=test_pred_rf_mites_regions): .3f}\")\n",
    "print(f\"Train RMSE: {metrics.mean_squared_error(y_true=y_train, y_pred=train_pred_rf_mites_regions, squared=False): .3f}\")\n",
    "print(f\"Test RMSE: {metrics.mean_squared_error(y_true=y_test, y_pred=test_pred_rf_mites_regions, squared=False): .3f}\")"
   ]
  },
  {
   "cell_type": "markdown",
   "id": "390084c3",
   "metadata": {},
   "source": [
    "#### RF: with features - plotting observed vs predicted - predictor: mites and regions"
   ]
  },
  {
   "cell_type": "code",
   "execution_count": null,
   "id": "2cd2fc1c",
   "metadata": {},
   "outputs": [],
   "source": [
    "fig, (ax1, ax2) = plt.subplots(1, 2, figsize=(14, 4))\n",
    "\n",
    "ax1.scatter(y_test, test_pred_rf_mites_regions, c=\"orange\")\n",
    "\n",
    "p1 = max(max(test_pred_rf_mites_regions), max(y_test))\n",
    "p2 = min(min(test_pred_rf_mites_regions), min(y_test))\n",
    "ax1.plot([p1, p2], [p1, p2], 'b-')\n",
    "ax1.set(xlabel='True colony loss counts - log', ylabel='Predicted', title=\"Random Forest regression on mites and regions - log scale\")\n",
    "\n",
    "ax2.scatter(np.exp(y_test), np.exp(test_pred_rf_mites_regions), c=\"orange\")\n",
    "ax2.set(xlabel='True colony loss counts', title=\"Random Forest regression on mites and regions - natural scale\")\n",
    "ax2.axis('equal')\n",
    "\n",
    "plt.show()"
   ]
  },
  {
   "cell_type": "markdown",
   "id": "231a5fc5",
   "metadata": {},
   "source": [
    "#### RF: with features - performance - predictor: mites and regions\n",
    "\n",
    "The random forest regressor with varroa mite and region data combined performs similarly to the same regressor with region data: worse than the naive model for the MAE metric, better for R-squared, and roughly the same for RMSE. This indicates that the addition of the varroa mite data to region data doesn't improve the model as I would have anticipated. "
   ]
  },
  {
   "cell_type": "markdown",
   "id": "21fdf3fb",
   "metadata": {},
   "source": [
    "#### RF: with features - fit model - predictor: Patsy matrix"
   ]
  },
  {
   "cell_type": "code",
   "execution_count": null,
   "id": "b1174649",
   "metadata": {},
   "outputs": [],
   "source": [
    "start = time.time()\n",
    "rf_matrix_train = rf_baseline_grid.fit(train_model_matrix, y_train)\n",
    "end = time.time()\n",
    "print(f\"Elapsed time: {end - start:.2f} seconds\")"
   ]
  },
  {
   "cell_type": "markdown",
   "id": "b9772dea",
   "metadata": {},
   "source": [
    "#### RF: with features - CV score distribution - predictor: Patsy matrix"
   ]
  },
  {
   "cell_type": "code",
   "execution_count": null,
   "id": "ee010291",
   "metadata": {},
   "outputs": [],
   "source": [
    "rf_matrix_best_estimator = rf_matrix_train.best_estimator_\n",
    "\n",
    "# Distribution of cross-val score\n",
    "start = time.time()\n",
    "rf_cv_scores_matrix = model_selection.cross_val_score(\n",
    "                    rf_matrix_best_estimator,\n",
    "                    train_model_matrix,\n",
    "                    y_train,\n",
    "                    scoring='neg_mean_absolute_error',\n",
    "                    cv=cross_validator,\n",
    "                )\n",
    "end = time.time()\n",
    "print(f\"Elapsed time: {end - start:.2f} seconds\")\n",
    "\n",
    "rf_train_pred_matrix = rf_matrix_best_estimator.predict(train_model_matrix)\n",
    "sns.histplot(rf_train_pred_matrix).set(title='Predicted vs observed - training data - Patsy matrix')\n",
    "plt.axvline(x=np.mean(y_train), ymin=0, ymax=12, label='observed', color='green')\n",
    "plt.legend()"
   ]
  },
  {
   "cell_type": "markdown",
   "id": "d88c63b0",
   "metadata": {},
   "source": [
    "#### RF: with features - metrics - predictor: Patsy matrix"
   ]
  },
  {
   "cell_type": "code",
   "execution_count": null,
   "id": "44131292",
   "metadata": {},
   "outputs": [],
   "source": [
    "rf_test_pred_matrix = rf_matrix_best_estimator.predict(test_model_matrix)\n",
    "\n",
    "print(f\"Mean train CV score: {np.mean(rf_cv_scores_matrix): .3f}\")\n",
    "\n",
    "print(f\"Train MAE: {metrics.median_absolute_error(y_true=y_train, y_pred=rf_train_pred_matrix): .3f}\")\n",
    "print(f\"Test MAE: {metrics.median_absolute_error(y_true=y_test, y_pred=rf_test_pred_matrix): .3f}\")\n",
    "print(f\"Train R-squared: {metrics.r2_score(y_true=y_train, y_pred=rf_train_pred_matrix): .3f}\")\n",
    "print(f\"Test R-squared: {metrics.r2_score(y_true=y_test, y_pred=rf_test_pred_matrix): .3f}\")\n",
    "print(f\"Train RMSE: {metrics.mean_squared_error(y_true=y_train, y_pred=rf_train_pred_matrix, squared=False): .3f}\")\n",
    "print(f\"Test RMSE: {metrics.mean_squared_error(y_true=y_test, y_pred=rf_test_pred_matrix, squared=False): .3f}\")"
   ]
  },
  {
   "cell_type": "markdown",
   "id": "42ae6a4e",
   "metadata": {},
   "source": [
    "#### RF: with features - plotting observed vs predicted - predictor: Patsy matrix"
   ]
  },
  {
   "cell_type": "code",
   "execution_count": null,
   "id": "b4365027",
   "metadata": {},
   "outputs": [],
   "source": [
    "fig, (ax1, ax2) = plt.subplots(1, 2, figsize=(14, 4))\n",
    "\n",
    "ax1.scatter(y_test, rf_test_pred_matrix, c=\"orange\")\n",
    "\n",
    "p1 = max(max(rf_test_pred_matrix), max(y_test))\n",
    "p2 = min(min(rf_test_pred_matrix), min(y_test))\n",
    "ax1.plot([p1, p2], [p1, p2], 'b-')\n",
    "ax1.set(xlabel='True colony loss counts - log', ylabel='Predicted', title=\"Random Forest on Patsy matrix - log scale\")\n",
    "\n",
    "ax2.scatter(np.exp(y_test), np.exp(rf_test_pred_matrix), c=\"orange\")\n",
    "ax2.set(xlabel='True colony loss counts', title=\"Random Forest on Patsy matrix - natural scale\")\n",
    "ax2.axis('equal')\n",
    "\n",
    "plt.show()"
   ]
  },
  {
   "cell_type": "markdown",
   "id": "e5674499",
   "metadata": {},
   "source": [
    "#### RF: with features - performance - predictor: Patsy matrix\n",
    "\n",
    "The random forest regressor with a Patsy matrix of varroa mite, pesticide, and region data combined only performs better than the naive model on the R-squared metric. The other two metrics are approximately the same as the baseline model. "
   ]
  },
  {
   "cell_type": "markdown",
   "id": "71c6a16e",
   "metadata": {},
   "source": [
    "### Random Forest regression - overall conclusions\n",
    "\n",
    "The one model that stands out random forest regression is the one built with pests as the predictive fields. In comparison to the models built with linear ridge regression, it falls in the middle of the two stand outs there, in terms of metrics, performing slightly better than the Patsy matrix and slightly worse than the linear ridge pest model. The training and test data sets align about as well as the pest data for linear ridge. "
   ]
  },
  {
   "cell_type": "markdown",
   "id": "af440b1a",
   "metadata": {},
   "source": [
    "## Support Vector regression"
   ]
  },
  {
   "cell_type": "markdown",
   "id": "2ba42d24",
   "metadata": {},
   "source": [
    "#### SV - create model object"
   ]
  },
  {
   "cell_type": "code",
   "execution_count": null,
   "id": "d5b1dcbd",
   "metadata": {},
   "outputs": [],
   "source": [
    "sv_base_model = svm.SVR(kernel=\"poly\", degree=3, epsilon=0.1, coef0=1)"
   ]
  },
  {
   "cell_type": "markdown",
   "id": "2f4cb680",
   "metadata": {},
   "source": [
    "#### SV - create params object"
   ]
  },
  {
   "cell_type": "code",
   "execution_count": null,
   "id": "2c27fd68",
   "metadata": {},
   "outputs": [],
   "source": [
    "sv_params = {'model__C': [0.1, 1, 10, 100, 1000], \n",
    "             'model__gamma': [1, 0.1, 0.01, 0.001, 0.0001, 'auto']}"
   ]
  },
  {
   "cell_type": "markdown",
   "id": "4aeac34e",
   "metadata": {},
   "source": [
    "#### SV - create pipeline"
   ]
  },
  {
   "cell_type": "code",
   "execution_count": null,
   "id": "5ff37c12",
   "metadata": {},
   "outputs": [],
   "source": [
    "sv_pipeline = pipeline.Pipeline(steps=[(\"model\", sv_base_model)])"
   ]
  },
  {
   "cell_type": "markdown",
   "id": "9d1dca11",
   "metadata": {},
   "source": [
    "#### SV - create baseline grid"
   ]
  },
  {
   "cell_type": "code",
   "execution_count": null,
   "id": "f80e5100",
   "metadata": {},
   "outputs": [],
   "source": [
    "sv_baseline_grid = model_selection.GridSearchCV(\n",
    "                        estimator=sv_pipeline,\n",
    "                        param_grid=sv_params,\n",
    "                        refit=True,\n",
    "                        scoring='neg_mean_absolute_error',\n",
    "                        cv=cross_validator,\n",
    "                        verbose=1\n",
    "                    )"
   ]
  },
  {
   "cell_type": "markdown",
   "id": "d8019d13",
   "metadata": {},
   "source": [
    "### Support Vector: naive model"
   ]
  },
  {
   "cell_type": "markdown",
   "id": "3c4fa02c",
   "metadata": {},
   "source": [
    "#### SV: naive - fit model"
   ]
  },
  {
   "cell_type": "code",
   "execution_count": null,
   "id": "6a4ca2d1",
   "metadata": {},
   "outputs": [],
   "source": [
    "start = time.time()\n",
    "sv_base_mod = sv_baseline_grid.fit(X_train_null, y_train)\n",
    "end = time.time()\n",
    "print(f\"Elapsed time: {end - start:.2f} seconds\")"
   ]
  },
  {
   "cell_type": "markdown",
   "id": "acd9f306",
   "metadata": {},
   "source": [
    "#### SV: naive - CV score distribution"
   ]
  },
  {
   "cell_type": "code",
   "execution_count": null,
   "id": "690bfbae",
   "metadata": {},
   "outputs": [],
   "source": [
    "sv_base_best_estimator = sv_base_mod.best_estimator_\n",
    "\n",
    "# Distribution of cross-val score\n",
    "start = time.time()\n",
    "sv_cv_scores = model_selection.cross_val_score(\n",
    "                    sv_base_best_estimator,\n",
    "                    X_train_null,\n",
    "                    y_train,\n",
    "                    scoring='neg_mean_absolute_error',\n",
    "                    cv=cross_validator,\n",
    "                )\n",
    "end = time.time()\n",
    "print(f\"Elapsed time: {end - start:.2f} seconds\")\n",
    "\n",
    "sv_naive_train_pred = sv_base_best_estimator.predict(X_train_null)\n",
    "sns.histplot(sv_naive_train_pred, label='CV scores').set(title='Support vector naive model: predicted vs observed')\n",
    "plt.axvline(x=np.mean(y_train), ymin=0, ymax=12, label='observed', color='green')\n",
    "plt.legend()\n",
    "plt.show()"
   ]
  },
  {
   "cell_type": "markdown",
   "id": "93f9d6a5",
   "metadata": {},
   "source": [
    "#### SV: naive - train / test comparison"
   ]
  },
  {
   "cell_type": "code",
   "execution_count": null,
   "id": "2793652e",
   "metadata": {},
   "outputs": [],
   "source": [
    "sv_naive_test_pred = sv_base_best_estimator.predict(X_test_null)\n",
    "\n",
    "print(f\"Mean train CV score: {np.mean(sv_cv_scores): .3f}\")\n",
    "\n",
    "print(f\"Train MAE: {metrics.median_absolute_error(y_true=y_train, y_pred=sv_naive_train_pred): .3f}\")\n",
    "print(f\"Test MAE: {metrics.median_absolute_error(y_true=y_test, y_pred=sv_naive_test_pred): .3f}\")\n",
    "print(f\"Train R-squared: {metrics.r2_score(y_true=y_train, y_pred=sv_naive_train_pred): .3f}\")\n",
    "print(f\"Test R-squared: {metrics.r2_score(y_true=y_test, y_pred=sv_naive_test_pred): .3f}\")\n",
    "print(f\"Train RMSE: {metrics.mean_squared_error(y_true=y_train, y_pred=sv_naive_train_pred, squared=False): .3f}\")\n",
    "print(f\"Test RMSE: {metrics.mean_squared_error(y_true=y_test, y_pred=sv_naive_test_pred, squared=False): .3f}\")"
   ]
  },
  {
   "cell_type": "markdown",
   "id": "0cfa7448",
   "metadata": {},
   "source": [
    "### Support Vector: with features"
   ]
  },
  {
   "cell_type": "markdown",
   "id": "bc625504",
   "metadata": {},
   "source": [
    "#### SV: with features - fit model - predictor: regions"
   ]
  },
  {
   "cell_type": "code",
   "execution_count": null,
   "id": "321b263e",
   "metadata": {},
   "outputs": [],
   "source": [
    "start = time.time()\n",
    "sv_regions_mod = sv_baseline_grid.fit(X_train_regions, y_train)\n",
    "end = time.time()\n",
    "print(f\"Elapsed time: {end - start:.2f} seconds\")"
   ]
  },
  {
   "cell_type": "markdown",
   "id": "81195917",
   "metadata": {},
   "source": [
    "#### SV: with features - CV score distribution - predictor: regions"
   ]
  },
  {
   "cell_type": "code",
   "execution_count": null,
   "id": "14718ec5",
   "metadata": {},
   "outputs": [],
   "source": [
    "sv_regions_best_estimator = sv_regions_mod.best_estimator_\n",
    "\n",
    "# Distribution of cross-val score\n",
    "start = time.time()\n",
    "sv_cv_scores_regions = model_selection.cross_val_score(\n",
    "                    sv_regions_best_estimator,\n",
    "                    X_train_regions,\n",
    "                    y_train,\n",
    "                    scoring='neg_mean_absolute_error',\n",
    "                    cv=cross_validator,\n",
    "                )\n",
    "end = time.time()\n",
    "print(f\"Elapsed time: {end - start:.2f} seconds\")\n",
    "\n",
    "train_pred_regions_sv = sv_regions_best_estimator.predict(X_train_regions)\n",
    "sns.histplot(train_pred_regions_sv).set(title='Predicted vs observed - training data - regions')\n",
    "plt.axvline(x=np.mean(y_train), ymin=0, ymax=12, label='observed', color='green')\n",
    "plt.legend()"
   ]
  },
  {
   "cell_type": "markdown",
   "id": "8d1164fa",
   "metadata": {},
   "source": [
    "#### SV: with features - metrics - predictor: regions"
   ]
  },
  {
   "cell_type": "code",
   "execution_count": null,
   "id": "d80a386e",
   "metadata": {},
   "outputs": [],
   "source": [
    "test_pred_sv_regions = sv_regions_best_estimator.predict(X_test_regions)\n",
    "\n",
    "print(f\"Mean train CV score: {np.mean(sv_cv_scores_regions): .3f}\")\n",
    "\n",
    "print(f\"Train MAE: {metrics.median_absolute_error(y_true=y_train, y_pred=train_pred_regions_sv): .3f}\")\n",
    "print(f\"Test MAE: {metrics.median_absolute_error(y_true=y_test, y_pred=test_pred_sv_regions): .3f}\")\n",
    "print(f\"Train R-squared: {metrics.r2_score(y_true=y_train, y_pred=train_pred_regions_sv): .3f}\")\n",
    "print(f\"Test R-squared: {metrics.r2_score(y_true=y_test, y_pred=test_pred_sv_regions): .3f}\")\n",
    "print(f\"Train RMSE: {metrics.mean_squared_error(y_true=y_train, y_pred=train_pred_regions_sv, squared=False): .3f}\")\n",
    "print(f\"Test RMSE: {metrics.mean_squared_error(y_true=y_test, y_pred=test_pred_sv_regions, squared=False): .3f}\")"
   ]
  },
  {
   "cell_type": "markdown",
   "id": "27be4566",
   "metadata": {},
   "source": [
    "#### SV: with features - plotting observed vs predicted - predictor: regions"
   ]
  },
  {
   "cell_type": "code",
   "execution_count": null,
   "id": "3676b535",
   "metadata": {},
   "outputs": [],
   "source": [
    "fig, (ax1, ax2) = plt.subplots(1, 2, figsize=(14, 5))\n",
    "\n",
    "ax1.scatter(y_test, test_pred_sv_regions, c=\"orange\")\n",
    "\n",
    "p1 = max(max(test_pred_sv_regions), max(y_test))\n",
    "p2 = min(min(test_pred_sv_regions), min(y_test))\n",
    "ax1.plot([p1, p2], [p1, p2], 'b-')\n",
    "ax1.set(xlabel='True colony loss counts - log', ylabel='Predicted', title=\"Support Vector regression on regions - log scale\")\n",
    "\n",
    "ax2.scatter(np.exp(y_test), np.exp(test_pred_sv_regions), c=\"orange\")\n",
    "ax2.set(xlabel='True colony loss counts', title=\"Support Vector regression on regions - natural scale\")\n",
    "\n",
    "plt.show()"
   ]
  },
  {
   "cell_type": "markdown",
   "id": "7f87a690",
   "metadata": {},
   "source": [
    "#### SV: with features - performance - predictor: regions\n",
    "\n",
    "The support vector regression model with region as the predictor only performs well on the R-squared metric, but performs the same as the naive model for MAE and RMSE. "
   ]
  },
  {
   "cell_type": "markdown",
   "id": "9e1c532e",
   "metadata": {},
   "source": [
    "#### SV: with features - fit model - predictor: subregions"
   ]
  },
  {
   "cell_type": "code",
   "execution_count": null,
   "id": "e7bdd13e",
   "metadata": {},
   "outputs": [],
   "source": [
    "start = time.time()\n",
    "sv_subregions_mod = sv_baseline_grid.fit(X_train_subregions, y_train)\n",
    "end = time.time()\n",
    "print(f\"Elapsed time: {end - start:.2f} seconds\")"
   ]
  },
  {
   "cell_type": "markdown",
   "id": "052e6294",
   "metadata": {},
   "source": [
    "#### SV: with features - CV score distribution - predictor: subregions"
   ]
  },
  {
   "cell_type": "code",
   "execution_count": null,
   "id": "692b64fb",
   "metadata": {},
   "outputs": [],
   "source": [
    "sv_subregions_best_estimator = sv_subregions_mod.best_estimator_\n",
    "\n",
    "# Distribution of cross-val score\n",
    "start = time.time()\n",
    "sv_cv_scores_subregions = model_selection.cross_val_score(\n",
    "                    sv_subregions_best_estimator,\n",
    "                    X_train_subregions,\n",
    "                    y_train,\n",
    "                    scoring='neg_mean_absolute_error',\n",
    "                    cv=cross_validator,\n",
    "                )\n",
    "end = time.time()\n",
    "print(f\"Elapsed time: {end - start:.2f} seconds\")\n",
    "\n",
    "train_pred_subregions_sv = sv_subregions_best_estimator.predict(X_train_subregions)\n",
    "sns.histplot(train_pred_subregions_sv).set(title='Predicted vs observed - training data - subregions')\n",
    "plt.axvline(x=np.mean(y_train), ymin=0, ymax=12, label='observed', color='green')\n",
    "plt.legend()"
   ]
  },
  {
   "cell_type": "markdown",
   "id": "1f4d497e",
   "metadata": {},
   "source": [
    "#### SV: with features - metrics - predictor: subregions"
   ]
  },
  {
   "cell_type": "code",
   "execution_count": null,
   "id": "f6fd038f",
   "metadata": {},
   "outputs": [],
   "source": [
    "test_pred_sv_subregions = sv_subregions_best_estimator.predict(X_test_subregions)\n",
    "\n",
    "print(f\"Mean train CV score: {np.mean(sv_cv_scores_subregions): .3f}\")\n",
    "\n",
    "print(f\"Train MAE: {metrics.median_absolute_error(y_true=y_train, y_pred=train_pred_subregions_sv): .3f}\")\n",
    "print(f\"Test MAE: {metrics.median_absolute_error(y_true=y_test, y_pred=test_pred_sv_subregions): .3f}\")\n",
    "print(f\"Train R-squared: {metrics.r2_score(y_true=y_train, y_pred=train_pred_subregions_sv): .3f}\")\n",
    "print(f\"Test R-squared: {metrics.r2_score(y_true=y_test, y_pred=test_pred_sv_subregions): .3f}\")\n",
    "print(f\"Train RMSE: {metrics.mean_squared_error(y_true=y_train, y_pred=train_pred_subregions_sv, squared=False): .3f}\")\n",
    "print(f\"Test RMSE: {metrics.mean_squared_error(y_true=y_test, y_pred=test_pred_sv_subregions, squared=False): .3f}\")"
   ]
  },
  {
   "cell_type": "markdown",
   "id": "f3d15305",
   "metadata": {},
   "source": [
    "#### SV: with features - plotting observed vs predicted - predictor: subregions"
   ]
  },
  {
   "cell_type": "code",
   "execution_count": null,
   "id": "aa5973c6",
   "metadata": {},
   "outputs": [],
   "source": [
    "fig, (ax1, ax2) = plt.subplots(1, 2, figsize=(14, 5))\n",
    "\n",
    "ax1.scatter(y_test, test_pred_sv_subregions, c=\"orange\")\n",
    "\n",
    "p1 = max(max(test_pred_sv_subregions), max(y_test))\n",
    "p2 = min(min(test_pred_sv_subregions), min(y_test))\n",
    "ax1.plot([p1, p2], [p1, p2], 'b-')\n",
    "ax1.set(xlabel='True colony loss counts - log', ylabel='Predicted', title=\"Support Vector regression on subregions - log scale\")\n",
    "\n",
    "ax2.scatter(np.exp(y_test), np.exp(test_pred_sv_subregions), c=\"orange\")\n",
    "ax2.set(xlabel='True colony loss counts', title=\"Support Vector regression on subregions - natural scale\")\n",
    "\n",
    "plt.show()"
   ]
  },
  {
   "cell_type": "markdown",
   "id": "d7bf97e4",
   "metadata": {},
   "source": [
    "#### SV: with features - performance - predictor: subregions\n",
    "\n",
    "Similar to the support vector regression model with region data, subregion data only performs well on the R-squared metric, but performs the same as the naive model for MAE and RMSE."
   ]
  },
  {
   "cell_type": "markdown",
   "id": "a1e0b897",
   "metadata": {},
   "source": [
    "#### SV: with features - fit model - predictor: all pests"
   ]
  },
  {
   "cell_type": "code",
   "execution_count": null,
   "id": "2f5af9dc",
   "metadata": {},
   "outputs": [],
   "source": [
    "start = time.time()\n",
    "sv_all_pests_mod = sv_baseline_grid.fit(X_train_all_pests, y_train)\n",
    "end = time.time()\n",
    "print(f\"Elapsed time: {end - start:.2f} seconds\")"
   ]
  },
  {
   "cell_type": "markdown",
   "id": "6661f46c",
   "metadata": {},
   "source": [
    "#### SV: with features - CV score distribution - predictor: all pests"
   ]
  },
  {
   "cell_type": "code",
   "execution_count": null,
   "id": "47d60bcf",
   "metadata": {},
   "outputs": [],
   "source": [
    "sv_all_pests_best_estimator = sv_all_pests_mod.best_estimator_\n",
    "\n",
    "# Distribution of cross-val score\n",
    "start = time.time()\n",
    "sv_cv_scores_all_pests = model_selection.cross_val_score(\n",
    "                    sv_all_pests_best_estimator,\n",
    "                    X_train_all_pests,\n",
    "                    y_train,\n",
    "                    scoring='neg_mean_absolute_error',\n",
    "                    cv=cross_validator,\n",
    "                )\n",
    "end = time.time()\n",
    "print(f\"Elapsed time: {end - start:.2f} seconds\")\n",
    "\n",
    "train_pred_all_pests_sv = sv_all_pests_best_estimator.predict(X_train_all_pests)\n",
    "sns.histplot(train_pred_all_pests_sv).set(title='Predicted vs observed - training data - all pests')\n",
    "plt.axvline(x=np.mean(y_train), ymin=0, ymax=12, label='observed', color='green')\n",
    "plt.legend()"
   ]
  },
  {
   "cell_type": "markdown",
   "id": "f0d0e4c4",
   "metadata": {},
   "source": [
    "#### SV: with features - metrics - predictor: all pests"
   ]
  },
  {
   "cell_type": "code",
   "execution_count": null,
   "id": "8259e14b",
   "metadata": {},
   "outputs": [],
   "source": [
    "test_pred_sv_all_pests = sv_all_pests_best_estimator.predict(X_test_all_pests)\n",
    "\n",
    "print(f\"Mean train CV score: {np.mean(sv_cv_scores_all_pests): .3f}\")\n",
    "\n",
    "print(f\"Train MAE: {metrics.median_absolute_error(y_true=y_train, y_pred=train_pred_all_pests_sv): .3f}\")\n",
    "print(f\"Test MAE: {metrics.median_absolute_error(y_true=y_test, y_pred=test_pred_sv_all_pests): .3f}\")\n",
    "print(f\"Train R-squared: {metrics.r2_score(y_true=y_train, y_pred=train_pred_all_pests_sv): .3f}\")\n",
    "print(f\"Test R-squared: {metrics.r2_score(y_true=y_test, y_pred=test_pred_sv_all_pests): .3f}\")\n",
    "print(f\"Train RMSE: {metrics.mean_squared_error(y_true=y_train, y_pred=train_pred_all_pests_sv, squared=False): .3f}\")\n",
    "print(f\"Test RMSE: {metrics.mean_squared_error(y_true=y_test, y_pred=test_pred_sv_all_pests, squared=False): .3f}\")"
   ]
  },
  {
   "cell_type": "markdown",
   "id": "2fdaa677",
   "metadata": {},
   "source": [
    "#### SV: with features - plotting observed vs predicted - predictor: all pests"
   ]
  },
  {
   "cell_type": "code",
   "execution_count": null,
   "id": "cf9a2d47",
   "metadata": {},
   "outputs": [],
   "source": [
    "fig, (ax1, ax2) = plt.subplots(1, 2, figsize=(14, 5))\n",
    "\n",
    "ax1.scatter(y_test, test_pred_sv_all_pests, c=\"orange\")\n",
    "\n",
    "p1 = max(max(test_pred_sv_all_pests), max(y_test))\n",
    "p2 = min(min(test_pred_sv_all_pests), min(y_test))\n",
    "ax1.plot([p1, p2], [p1, p2], 'b-')\n",
    "ax1.set(xlabel='True colony loss counts - log', ylabel='Predicted', title=\"Support Vector regression on pests - log scale\")\n",
    "\n",
    "ax2.scatter(np.exp(y_test), np.exp(test_pred_sv_all_pests), c=\"orange\")\n",
    "ax2.set(xlabel='True colony loss counts', title=\"Support Vector regression on pests - natural scale\")\n",
    "\n",
    "plt.show()"
   ]
  },
  {
   "cell_type": "markdown",
   "id": "4de35b7a",
   "metadata": {},
   "source": [
    "#### SV: with features - performance - predictor: pests\n",
    "\n",
    "The support vector model performs worse than the baseline on pests for MAE, better for the R-squared metric, and slightly better for RMSE. The pest model had some of the best performance in the other two regression models, so I would have expected better results here as well. "
   ]
  },
  {
   "cell_type": "markdown",
   "id": "ec5194e8",
   "metadata": {},
   "source": [
    "#### SV: with features - fit model - predictor: mites and regions"
   ]
  },
  {
   "cell_type": "code",
   "execution_count": null,
   "id": "e111a560",
   "metadata": {},
   "outputs": [],
   "source": [
    "start = time.time()\n",
    "sv_mites_regions = sv_baseline_grid.fit(X_train_mites_regions, y_train)\n",
    "end = time.time()\n",
    "print(f\"Elapsed time: {end - start:.2f} seconds\")"
   ]
  },
  {
   "cell_type": "markdown",
   "id": "7ad179f0",
   "metadata": {},
   "source": [
    "#### SV: with features - CV score distribution - predictor: mites and regions"
   ]
  },
  {
   "cell_type": "code",
   "execution_count": null,
   "id": "d93044a6",
   "metadata": {},
   "outputs": [],
   "source": [
    "sv_mites_regions_best_estimator = sv_mites_regions.best_estimator_\n",
    "\n",
    "# Distribution of cross-val score\n",
    "start = time.time()\n",
    "sv_cv_scores_mites_regions = model_selection.cross_val_score(\n",
    "                    sv_mites_regions_best_estimator,\n",
    "                    X_train_mites_regions,\n",
    "                    y_train,\n",
    "                    scoring='neg_mean_absolute_error',\n",
    "                    cv=cross_validator,\n",
    "                )\n",
    "end = time.time()\n",
    "print(f\"Elapsed time: {end - start:.2f} seconds\")\n",
    "\n",
    "train_pred_sv_mites_regions = sv_mites_regions_best_estimator.predict(X_train_mites_regions)\n",
    "sns.histplot(train_pred_sv_mites_regions).set(title='Predicted vs observed - training data - mites and regions')\n",
    "plt.axvline(x=np.mean(y_train), ymin=0, ymax=12, label='observed', color='green')\n",
    "plt.legend()"
   ]
  },
  {
   "cell_type": "markdown",
   "id": "c336bfa5",
   "metadata": {},
   "source": [
    "#### SV: with features - metrics - predictor: mites and regions"
   ]
  },
  {
   "cell_type": "code",
   "execution_count": null,
   "id": "335cc852",
   "metadata": {},
   "outputs": [],
   "source": [
    "test_pred_sv_mites_regions = sv_mites_regions_best_estimator.predict(X_test_mites_regions)\n",
    "\n",
    "print(f\"Mean train CV score: {np.mean(test_pred_sv_mites_regions): .3f}\")\n",
    "\n",
    "print(f\"Train MAE: {metrics.median_absolute_error(y_true=y_train, y_pred=train_pred_sv_mites_regions): .3f}\")\n",
    "print(f\"Test MAE: {metrics.median_absolute_error(y_true=y_test, y_pred=test_pred_sv_mites_regions): .3f}\")\n",
    "print(f\"Train R-squared: {metrics.r2_score(y_true=y_train, y_pred=train_pred_sv_mites_regions): .3f}\")\n",
    "print(f\"Test R-squared: {metrics.r2_score(y_true=y_test, y_pred=test_pred_sv_mites_regions): .3f}\")\n",
    "print(f\"Train RMSE: {metrics.mean_squared_error(y_true=y_train, y_pred=train_pred_sv_mites_regions, squared=False): .3f}\")\n",
    "print(f\"Test RMSE: {metrics.mean_squared_error(y_true=y_test, y_pred=test_pred_sv_mites_regions, squared=False): .3f}\")"
   ]
  },
  {
   "cell_type": "markdown",
   "id": "2bffb6b4",
   "metadata": {},
   "source": [
    "#### SV: with features - plotting observed vs predicted - predictor: mites and regions"
   ]
  },
  {
   "cell_type": "code",
   "execution_count": null,
   "id": "5a311b37",
   "metadata": {},
   "outputs": [],
   "source": [
    "fig, (ax1, ax2) = plt.subplots(1, 2, figsize=(14, 4))\n",
    "\n",
    "ax1.scatter(y_test, test_pred_sv_mites_regions, c=\"orange\")\n",
    "\n",
    "p1 = max(max(test_pred_sv_mites_regions), max(y_test))\n",
    "p2 = min(min(test_pred_sv_mites_regions), min(y_test))\n",
    "ax1.plot([p1, p2], [p1, p2], 'b-')\n",
    "ax1.set(xlabel='True colony loss counts - log', ylabel='Predicted', title=\"Support Vector on mites and regions - log scale\")\n",
    "\n",
    "ax2.scatter(np.exp(y_test), np.exp(test_pred_sv_mites_regions), c=\"orange\")\n",
    "ax2.set(xlabel='True colony loss counts', title=\"Support Vector on mites and regions - natural scale\")\n",
    "ax2.axis('equal')\n",
    "\n",
    "plt.show()"
   ]
  },
  {
   "cell_type": "markdown",
   "id": "d44ba464",
   "metadata": {},
   "source": [
    "#### SV: with features - performance - predictor: mites and regions\n",
    "\n",
    "Like the region and subregion models, adding varroa mite data did not make a significant improvement to the quality of results. In fact, R-squared was slightly worse. Further, the difference in data between train and test sets show that this isn't a well-aligned model."
   ]
  },
  {
   "cell_type": "markdown",
   "id": "3c98c24a",
   "metadata": {},
   "source": [
    "#### SV: with features - fit model - predictor: Patsy matrix"
   ]
  },
  {
   "cell_type": "code",
   "execution_count": null,
   "id": "96edb737",
   "metadata": {},
   "outputs": [],
   "source": [
    "start = time.time()\n",
    "sv_matrix_train = sv_baseline_grid.fit(train_model_matrix, y_train)\n",
    "end = time.time()\n",
    "print(f\"Elapsed time: {end - start:.2f} seconds\")"
   ]
  },
  {
   "cell_type": "markdown",
   "id": "e186fc64",
   "metadata": {},
   "source": [
    "#### SV: with features - CV score distribution - predictor: Patsy matrix"
   ]
  },
  {
   "cell_type": "code",
   "execution_count": null,
   "id": "51216290",
   "metadata": {},
   "outputs": [],
   "source": [
    "sv_matrix_best_estimator = sv_matrix_train.best_estimator_\n",
    "\n",
    "# Distribution of cross-val score\n",
    "start = time.time()\n",
    "sv_cv_scores_matrix = model_selection.cross_val_score(\n",
    "                    sv_matrix_best_estimator,\n",
    "                    train_model_matrix,\n",
    "                    y_train,\n",
    "                    scoring='neg_mean_absolute_error',\n",
    "                    cv=cross_validator,\n",
    "                )\n",
    "end = time.time()\n",
    "print(f\"Elapsed time: {end - start:.2f} seconds\")\n",
    "\n",
    "sv_train_pred_matrix = sv_matrix_best_estimator.predict(train_model_matrix)\n",
    "sns.histplot(sv_train_pred_matrix).set(title='Predicted vs observed - training data - Patsy matrix')\n",
    "plt.axvline(x=np.mean(y_train), ymin=0, ymax=12, label='observed', color='green')\n",
    "plt.legend()"
   ]
  },
  {
   "cell_type": "markdown",
   "id": "6c296945",
   "metadata": {},
   "source": [
    "#### SV: with features - metrics - predictor: Patsy matrix"
   ]
  },
  {
   "cell_type": "code",
   "execution_count": null,
   "id": "b2eacda7",
   "metadata": {},
   "outputs": [],
   "source": [
    "sv_test_pred_matrix = sv_matrix_best_estimator.predict(test_model_matrix)\n",
    "\n",
    "print(f\"Mean train CV score: {np.mean(sv_cv_scores_matrix): .3f}\")\n",
    "\n",
    "print(f\"Train MAE: {metrics.median_absolute_error(y_true=y_train, y_pred=sv_train_pred_matrix): .3f}\")\n",
    "print(f\"Test MAE: {metrics.median_absolute_error(y_true=y_test, y_pred=sv_test_pred_matrix): .3f}\")\n",
    "print(f\"Train R-squared: {metrics.r2_score(y_true=y_train, y_pred=sv_train_pred_matrix): .3f}\")\n",
    "print(f\"Test R-squared: {metrics.r2_score(y_true=y_test, y_pred=sv_test_pred_matrix): .3f}\")\n",
    "print(f\"Train RMSE: {metrics.mean_squared_error(y_true=y_train, y_pred=sv_train_pred_matrix, squared=False): .3f}\")\n",
    "print(f\"Test RMSE: {metrics.mean_squared_error(y_true=y_test, y_pred=sv_test_pred_matrix, squared=False): .3f}\")"
   ]
  },
  {
   "cell_type": "markdown",
   "id": "ab49cc71",
   "metadata": {},
   "source": [
    "#### SV: with features - plotting observed vs predicted - predictor: Patsy matrix"
   ]
  },
  {
   "cell_type": "code",
   "execution_count": null,
   "id": "ce0a09ca",
   "metadata": {},
   "outputs": [],
   "source": [
    "fig, (ax1, ax2) = plt.subplots(1, 2, figsize=(14, 4))\n",
    "\n",
    "ax1.scatter(y_test, sv_test_pred_matrix, c=\"orange\")\n",
    "\n",
    "p1 = max(max(sv_test_pred_matrix), max(y_test))\n",
    "p2 = min(min(sv_test_pred_matrix), min(y_test))\n",
    "ax1.plot([p1, p2], [p1, p2], 'b-')\n",
    "ax1.set(xlabel='True colony loss counts - log', ylabel='Predicted', title=\"Support Vector on Patsy matrix - log scale\")\n",
    "\n",
    "ax2.scatter(np.exp(y_test), np.exp(sv_test_pred_matrix), c=\"orange\")\n",
    "ax2.set(xlabel='True colony loss counts', title=\"Support Vector on Patsy matrix - natural scale\")\n",
    "ax2.axis('equal')\n",
    "\n",
    "plt.show()"
   ]
  },
  {
   "cell_type": "markdown",
   "id": "b5afca18",
   "metadata": {},
   "source": [
    "#### SV: with features - performance - predictor: Patsy matrix\n",
    "\n",
    "The metrics for a Patsy matrix of varroa mites, pesticides, and region data was almost identical to the metrics yielded by the baseline model. In fact, they are so similar that I doublechecked that I didn't have an entry error."
   ]
  },
  {
   "cell_type": "markdown",
   "id": "ce221689",
   "metadata": {},
   "source": [
    "### Support Vector regression - conclusions\n",
    "\n",
    "Overall, the support vector regression model performed poorly. I don't know if poor performance is why support vector is seldom in use anymore, but as a novice to data science, I found it surprising how clear it is that this regression model is lower quality as compared to the other two."
   ]
  }
 ],
 "metadata": {
  "kernelspec": {
   "display_name": "Python 3 (ipykernel)",
   "language": "python",
   "name": "python3"
  },
  "language_info": {
   "codemirror_mode": {
    "name": "ipython",
    "version": 3
   },
   "file_extension": ".py",
   "mimetype": "text/x-python",
   "name": "python",
   "nbconvert_exporter": "python",
   "pygments_lexer": "ipython3",
   "version": "3.8.8"
  }
 },
 "nbformat": 4,
 "nbformat_minor": 5
}
