{
 "cells": [
  {
   "cell_type": "code",
   "execution_count": 2,
   "id": "2ee029fb",
   "metadata": {},
   "outputs": [],
   "source": [
    "import pandas as pd\n",
    "\n",
    "bee_data = pd.read_csv('bee_data_after_preprocessing.csv')\n",
    "\n",
    "X = bee_data.drop('Percent lost', axis=1)\n",
    "y = bee_data['Percent lost'] "
   ]
  },
  {
   "cell_type": "code",
   "execution_count": 4,
   "id": "a39b39f5",
   "metadata": {},
   "outputs": [
    {
     "name": "stdout",
     "output_type": "stream",
     "text": [
      "   Starting colonies  Maximum colonies  Lost colonies  Added colonies  \\\n",
      "0             7000.0            7000.0         1800.0       -0.269072   \n",
      "1             7500.0            7500.0          860.0       -0.301820   \n",
      "2             8500.0            9000.0         1400.0       -0.365133   \n",
      "3             8000.0            8000.0          610.0       -0.368044   \n",
      "4             7500.0            7500.0         1700.0       -0.327291   \n",
      "\n",
      "   Varroa mites  Other pests  Diseases  Pesticides     Other   Unknown  ...  \\\n",
      "0     -0.998010    -0.438503       NaN   -0.524843  0.421808  0.939772  ...   \n",
      "1     -0.649452     2.348027       NaN   -0.514124 -0.457519 -0.066701  ...   \n",
      "2      1.764442     4.458580       NaN   -0.481967 -0.606557  2.515948  ...   \n",
      "3     -1.356972    -0.363395 -0.528829   -0.739222 -0.517134 -0.484483  ...   \n",
      "4     -0.259275     0.808300 -0.020045    0.107578 -0.576749  1.300584  ...   \n",
      "\n",
      "  region_west  subregion_east north central  subregion_east south central  \\\n",
      "0           0                             0                             1   \n",
      "1           0                             0                             1   \n",
      "2           0                             0                             1   \n",
      "3           0                             0                             1   \n",
      "4           0                             0                             1   \n",
      "\n",
      "   subregion_mid atlantic  subregion_mountain  subregion_new england  \\\n",
      "0                       0                   0                      0   \n",
      "1                       0                   0                      0   \n",
      "2                       0                   0                      0   \n",
      "3                       0                   0                      0   \n",
      "4                       0                   0                      0   \n",
      "\n",
      "   subregion_pacific  subregion_south atlantic  subregion_west north central  \\\n",
      "0                  0                         0                             0   \n",
      "1                  0                         0                             0   \n",
      "2                  0                         0                             0   \n",
      "3                  0                         0                             0   \n",
      "4                  0                         0                             0   \n",
      "\n",
      "   subregion_west south central  \n",
      "0                             0  \n",
      "1                             0  \n",
      "2                             0  \n",
      "3                             0  \n",
      "4                             0  \n",
      "\n",
      "[5 rows x 69 columns]\n",
      "0    1.905818\n",
      "1    0.085000\n",
      "2    0.605234\n",
      "3   -0.435234\n",
      "4    1.515643\n",
      "Name: Percent lost, dtype: float64\n"
     ]
    }
   ],
   "source": []
  },
  {
   "cell_type": "code",
   "execution_count": null,
   "id": "3faf5657",
   "metadata": {},
   "outputs": [],
   "source": []
  }
 ],
 "metadata": {
  "kernelspec": {
   "display_name": "Python 3 (ipykernel)",
   "language": "python",
   "name": "python3"
  },
  "language_info": {
   "codemirror_mode": {
    "name": "ipython",
    "version": 3
   },
   "file_extension": ".py",
   "mimetype": "text/x-python",
   "name": "python",
   "nbconvert_exporter": "python",
   "pygments_lexer": "ipython3",
   "version": "3.8.8"
  }
 },
 "nbformat": 4,
 "nbformat_minor": 5
}
