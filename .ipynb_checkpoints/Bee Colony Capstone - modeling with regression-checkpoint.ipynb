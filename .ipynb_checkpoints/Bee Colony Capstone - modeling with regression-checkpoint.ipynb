{
 "cells": [
  {
   "cell_type": "code",
   "execution_count": null,
   "id": "0b83733a",
   "metadata": {},
   "outputs": [],
   "source": [
    "import pandas as pd\n",
    "import matplotlib.pyplot as plt\n",
    "import numpy as np\n",
    "from sklearn import linear_model\n",
    "from sklearn.metrics import mean_squared_error, r2_score, explained_variance_score\n",
    "\n",
    "X = pd.read_csv('X.csv')\n",
    "y = pd.read_csv('y.csv')\n",
    "X_train = pd.read_csv('X_train.csv')\n",
    "X_test = pd.read_csv('X_test.csv')\n",
    "y_train = pd.read_csv('y_train.csv')\n",
    "y_test = pd.read_csv('y_test.csv')"
   ]
  },
  {
   "cell_type": "markdown",
   "id": "e73b7b62",
   "metadata": {},
   "source": [
    "Linear regression model"
   ]
  },
  {
   "cell_type": "code",
   "execution_count": null,
   "id": "a3de7af3",
   "metadata": {},
   "outputs": [],
   "source": [
    "lr_model = linear_model.LinearRegression()\n",
    "lr_model.fit(X_train, y_train)\n",
    "y_train_pred = lr_model.predict(X_train)\n",
    "print(\"Results on the training data\")\n",
    "print('Mean squared error (MSE): %.2f'\n",
    "      % mean_squared_error(y_train, y_train_pred))\n",
    "print('Coefficient of determination (R^2): %.2f'\n",
    "      % r2_score(y_train, y_train_pred))\n",
    "print('Explained variance score: %.2f'\n",
    "      % explained_variance_score(y_train, y_train_pred))\n",
    "\n",
    "# Now run the model on the testing data and check results\n",
    "y_test_pred = lr_model.predict(X_test)\n",
    "print()\n",
    "print(\"Results on the testing data\")\n",
    "print('Mean squared error (MSE): %.2f'\n",
    "      % mean_squared_error(y_test, y_test_pred))\n",
    "print('Coefficient of determination (R^2): %.2f'\n",
    "      % r2_score(y_test, y_test_pred))\n",
    "print('Explained variance score: %.2f'\n",
    "      % explained_variance_score(y_test, y_test_pred))"
   ]
  },
  {
   "cell_type": "markdown",
   "id": "49f3e367",
   "metadata": {},
   "source": [
    "Based on what I read, the best value for explained variance and R^2 is one. So, these results seem pretty bad by those metrics. Whereas, the mean squared error is better if it's lower, so this model works fairly well by that measure."
   ]
  },
  {
   "cell_type": "code",
   "execution_count": null,
   "id": "a954832e",
   "metadata": {},
   "outputs": [],
   "source": [
    "# Scatter plot of the train and test set results\n",
    "plt.figure(figsize=(10,7))\n",
    "\n",
    "# plt.subplot(2, 1, 1)\n",
    "plt.scatter(x=y_train, y=y_train_pred, c=\"green\", alpha=0.3)\n",
    "\n",
    "# plt.subplot(2, 1, 2)\n",
    "plt.scatter(x=y_test, y=y_test_pred, c=\"blue\", alpha=0.3)\n",
    "\n",
    "plt.ylabel('Predicted LogS')\n",
    "plt.xlabel('Experimental LogS')\n",
    "\n",
    "plt.show()"
   ]
  },
  {
   "cell_type": "code",
   "execution_count": null,
   "id": "cf9908af",
   "metadata": {},
   "outputs": [],
   "source": [
    "from sklearn import svm\n",
    "from sklearn.model_selection import RandomizedSearchCV\n",
    "\n",
    "regr = svm.SVC()\n",
    "tuned_parameters = [{\n",
    "    'kernel': ['rbf'], \n",
    "    'gamma': [1e-4,1e-3,1e-2,1e-1,1e+0,1e+1,1e+2,1e+3,1e+4],\n",
    "    'C': [1e+0,1e+1,1e+2,1e+3,1e+4,1e+5,1e+6,1e+7,1e+8,1e+9]\n",
    "}]\n",
    "\n",
    "RSCV = RandomizedSearchCV(estimator=regr, param_grid=tuned_parameters)\n",
    "RSresult = RSCV.fit(X_train, y_train)\n",
    "\n",
    "best_model = RSresult.best_estimator_\n",
    "yhat = best_model.predict(X_test)\n",
    "print(yhat)"
   ]
  },
  {
   "cell_type": "markdown",
   "id": "c687bd77",
   "metadata": {},
   "source": [
    "Random Forest Regressor"
   ]
  },
  {
   "cell_type": "code",
   "execution_count": null,
   "id": "85bea07e",
   "metadata": {},
   "outputs": [],
   "source": [
    "from sklearn.ensemble import RandomForestRegressor\n",
    "\n",
    "rf_model = RandomForestRegressor(\n",
    "    n_estimators=100, random_state=42, max_depth=10, bootstrap = True, max_features ='auto'\n",
    ")\n",
    "rf_model.fit(X_train, y_train)\n",
    "rf_predictions = rf_model.predict(X_test)\n",
    "\n",
    "print()\n",
    "print(\"Results on the testing data with Random Forest\")\n",
    "print('Mean squared error (MSE): %.2f'\n",
    "      % mean_squared_error(y_test, rf_predictions))\n",
    "print('Coefficient of determination (R^2): %.2f'\n",
    "      % r2_score(y_test, rf_predictions))\n",
    "print('Explained variance score: %.2f'\n",
    "      % explained_variance_score(y_test, rf_predictions))\n",
    "\n",
    "plt.scatter(y_test, rf_predictions, color='green', alpha=0.3)\n",
    "plt.title('Random Forest Regression')\n",
    "plt.ylabel('Final colony count')\n",
    "plt.show()\n",
    "\n",
    "# I tweaked the max_depth and max_features params to get an MSE of 0 and a higher explained variance and R^2 than with \n",
    "# max_features of sqrt and no max_depth set. "
   ]
  },
  {
   "cell_type": "markdown",
   "id": "7e47557c",
   "metadata": {},
   "source": [
    "Bayesian model\n",
    "\n",
    "I tried to use PyMC3 and installed it with 'conda install' but it still didn't work. So, I switched to sklearn's Bayesian Ridge regression instead"
   ]
  },
  {
   "cell_type": "code",
   "execution_count": null,
   "id": "031ad0bb",
   "metadata": {},
   "outputs": [],
   "source": [
    "from sklearn import linear_model\n",
    "\n",
    "br_model = linear_model.BayesianRidge(n_iter=1000, tol=0.0001)\n",
    "br_model.fit(X_train, y_train)\n",
    "y_br_pred = br_model.predict(X_test)\n",
    "\n",
    "print()\n",
    "print(\"Results on the testing data with Random Forest\")\n",
    "print('Mean squared error (MSE): %.2f'\n",
    "      % mean_squared_error(y_test, y_br_pred))\n",
    "print('Coefficient of determination (R^2): %.2f'\n",
    "      % r2_score(y_test, y_br_pred))\n",
    "print('Explained variance score: %.2f'\n",
    "      % explained_variance_score(y_test, y_br_pred))\n",
    "\n",
    "plt.scatter(y_test, y_br_pred, color='green', alpha=0.3)\n",
    "plt.title('Bayesian Ridge Regression')\n",
    "plt.ylabel('Final colony count')\n",
    "plt.show()"
   ]
  },
  {
   "cell_type": "code",
   "execution_count": null,
   "id": "4e3d0cc5",
   "metadata": {},
   "outputs": [],
   "source": []
  }
 ],
 "metadata": {
  "kernelspec": {
   "display_name": "Python 3 (ipykernel)",
   "language": "python",
   "name": "python3"
  },
  "language_info": {
   "codemirror_mode": {
    "name": "ipython",
    "version": 3
   },
   "file_extension": ".py",
   "mimetype": "text/x-python",
   "name": "python",
   "nbconvert_exporter": "python",
   "pygments_lexer": "ipython3",
   "version": "3.8.8"
  }
 },
 "nbformat": 4,
 "nbformat_minor": 5
}
