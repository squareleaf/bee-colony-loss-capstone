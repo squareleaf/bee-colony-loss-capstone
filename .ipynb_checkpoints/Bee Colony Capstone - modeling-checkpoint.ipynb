{
 "cells": [
  {
   "cell_type": "markdown",
   "id": "f348438b",
   "metadata": {},
   "source": [
    "Pull in the train and test sets created in preprocessing"
   ]
  },
  {
   "cell_type": "code",
   "execution_count": 34,
   "id": "80a8683c",
   "metadata": {},
   "outputs": [],
   "source": [
    "import pandas as pd\n",
    "\n",
    "X_train = pd.read_csv('X_train.csv')\n",
    "X_test = pd.read_csv('X_test.csv')\n",
    "y_train = pd.read_csv('y_train.csv')\n",
    "y_test = pd.read_csv('y_test.csv')\n",
    "bee_colony_data = pd.read_csv('bee_data_after_preprocessing.csv')"
   ]
  },
  {
   "cell_type": "markdown",
   "id": "e8e148f5",
   "metadata": {},
   "source": [
    "ARMA model (autoregression, moving average - not using differencing)\n",
    "\n",
    "First, check if the data is stationary using the Augmented Dickey Fuller test (I assume it's not because it's seasonal)."
   ]
  },
  {
   "cell_type": "code",
   "execution_count": 35,
   "id": "0425683b",
   "metadata": {},
   "outputs": [
    {
     "name": "stdout",
     "output_type": "stream",
     "text": [
      "Augmented Dickey Fuller statistic: -6.509814\n",
      "p-value: 0.000000\n"
     ]
    }
   ],
   "source": [
    "from statsmodels.tsa.stattools import adfuller\n",
    "from numpy import log\n",
    "\n",
    "result = adfuller(bee_colony_data['Percent lost'].dropna())\n",
    "print('Augmented Dickey Fuller statistic: %f' % result[0])\n",
    "print('p-value: %f' % result[1])"
   ]
  },
  {
   "cell_type": "markdown",
   "id": "6142182d",
   "metadata": {},
   "source": [
    "Next, find out number of required AR terms by inspecting the autocorrelation plot (correlation between the series and its lag, after excluding the contributions from intermediate lags)"
   ]
  },
  {
   "cell_type": "code",
   "execution_count": 36,
   "id": "f8860509",
   "metadata": {},
   "outputs": [
    {
     "data": {
      "image/png": "[encoded data removed]",
      "text/plain": [
       "<Figure size 432x288 with 1 Axes>"
      ]
     },
     "metadata": {
      "needs_background": "light"
     },
     "output_type": "display_data"
    }
   ],
   "source": [
    "import matplotlib.pyplot as plt\n",
    "import numpy as np\n",
    "\n",
    "time_array = np.array(y_train['Percent lost'].values)\n",
    "pd.plotting.autocorrelation_plot(time_array)\n",
    "plt.show()"
   ]
  },
  {
   "cell_type": "markdown",
   "id": "51afdec9",
   "metadata": {},
   "source": [
    "This seems to point to the AR parameter being 0. \n",
    "\n",
    "Since the first version I'm going to run is just ARMA (without the I for differencing), this points to the starting value for `p` being 0. \n",
    "\n",
    "Next up, I'll try fitting the ARMA model to the training data."
   ]
  },
  {
   "cell_type": "code",
   "execution_count": 37,
   "id": "ce9fb885",
   "metadata": {},
   "outputs": [
    {
     "data": {
      "text/html": [
       "<table class=\"simpletable\">\n",
       "<caption>SARIMAX Results</caption>\n",
       "<tr>\n",
       "  <th>Dep. Variable:</th>     <td>Percent lost</td>   <th>  No. Observations:  </th>    <td>913</td>   \n",
       "</tr>\n",
       "<tr>\n",
       "  <th>Model:</th>                 <td>ARIMA</td>      <th>  Log Likelihood     </th> <td>-1318.587</td>\n",
       "</tr>\n",
       "<tr>\n",
       "  <th>Date:</th>            <td>Tue, 08 Feb 2022</td> <th>  AIC                </th> <td>2641.173</td> \n",
       "</tr>\n",
       "<tr>\n",
       "  <th>Time:</th>                <td>20:28:37</td>     <th>  BIC                </th> <td>2650.807</td> \n",
       "</tr>\n",
       "<tr>\n",
       "  <th>Sample:</th>                  <td>0</td>        <th>  HQIC               </th> <td>2644.851</td> \n",
       "</tr>\n",
       "<tr>\n",
       "  <th></th>                      <td> - 913</td>      <th>                     </th>     <td> </td>    \n",
       "</tr>\n",
       "<tr>\n",
       "  <th>Covariance Type:</th>        <td>opg</td>       <th>                     </th>     <td> </td>    \n",
       "</tr>\n",
       "</table>\n",
       "<table class=\"simpletable\">\n",
       "<tr>\n",
       "     <td></td>       <th>coef</th>     <th>std err</th>      <th>z</th>      <th>P>|z|</th>  <th>[0.025</th>    <th>0.975]</th>  \n",
       "</tr>\n",
       "<tr>\n",
       "  <th>const</th>  <td>   -0.0021</td> <td>    0.046</td> <td>   -0.046</td> <td> 0.963</td> <td>   -0.092</td> <td>    0.088</td>\n",
       "</tr>\n",
       "<tr>\n",
       "  <th>sigma2</th> <td>    1.0756</td> <td>    0.034</td> <td>   31.747</td> <td> 0.000</td> <td>    1.009</td> <td>    1.142</td>\n",
       "</tr>\n",
       "</table>\n",
       "<table class=\"simpletable\">\n",
       "<tr>\n",
       "  <th>Ljung-Box (L1) (Q):</th>     <td>0.04</td> <th>  Jarque-Bera (JB):  </th> <td>1918.36</td>\n",
       "</tr>\n",
       "<tr>\n",
       "  <th>Prob(Q):</th>                <td>0.83</td> <th>  Prob(JB):          </th>  <td>0.00</td>  \n",
       "</tr>\n",
       "<tr>\n",
       "  <th>Heteroskedasticity (H):</th> <td>0.86</td> <th>  Skew:              </th>  <td>1.88</td>  \n",
       "</tr>\n",
       "<tr>\n",
       "  <th>Prob(H) (two-sided):</th>    <td>0.20</td> <th>  Kurtosis:          </th>  <td>9.02</td>  \n",
       "</tr>\n",
       "</table><br/><br/>Warnings:<br/>[1] Covariance matrix calculated using the outer product of gradients (complex-step)."
      ],
      "text/plain": [
       "<class 'statsmodels.iolib.summary.Summary'>\n",
       "\"\"\"\n",
       "                               SARIMAX Results                                \n",
       "==============================================================================\n",
       "Dep. Variable:           Percent lost   No. Observations:                  913\n",
       "Model:                          ARIMA   Log Likelihood               -1318.587\n",
       "Date:                Tue, 08 Feb 2022   AIC                           2641.173\n",
       "Time:                        20:28:37   BIC                           2650.807\n",
       "Sample:                             0   HQIC                          2644.851\n",
       "                                - 913                                         \n",
       "Covariance Type:                  opg                                         \n",
       "==============================================================================\n",
       "                 coef    std err          z      P>|z|      [0.025      0.975]\n",
       "------------------------------------------------------------------------------\n",
       "const         -0.0021      0.046     -0.046      0.963      -0.092       0.088\n",
       "sigma2         1.0756      0.034     31.747      0.000       1.009       1.142\n",
       "===================================================================================\n",
       "Ljung-Box (L1) (Q):                   0.04   Jarque-Bera (JB):              1918.36\n",
       "Prob(Q):                              0.83   Prob(JB):                         0.00\n",
       "Heteroskedasticity (H):               0.86   Skew:                             1.88\n",
       "Prob(H) (two-sided):                  0.20   Kurtosis:                         9.02\n",
       "===================================================================================\n",
       "\n",
       "Warnings:\n",
       "[1] Covariance matrix calculated using the outer product of gradients (complex-step).\n",
       "\"\"\""
      ]
     },
     "execution_count": 37,
     "metadata": {},
     "output_type": "execute_result"
    }
   ],
   "source": [
    "from statsmodels.tsa.arima.model import ARIMA\n",
    "\n",
    "model = ARIMA(y_train, order=(0, 0, 0))\n",
    "fitted_model = model.fit()\n",
    "\n",
    "fitted_model.summary()"
   ]
  },
  {
   "cell_type": "code",
   "execution_count": 39,
   "id": "4e6b470e",
   "metadata": {},
   "outputs": [
    {
     "data": {
      "image/png": "[encoded data removed]",
      "text/plain": [
       "<Figure size 432x288 with 1 Axes>"
      ]
     },
     "metadata": {
      "needs_background": "light"
     },
     "output_type": "display_data"
    }
   ],
   "source": [
    "residuals = pd.DataFrame(fitted_model.resid)\n",
    "residuals.plot()\n",
    "plt.show()"
   ]
  },
  {
   "cell_type": "markdown",
   "id": "a45a0867",
   "metadata": {},
   "source": [
    "Line plot of the residual errors\n",
    "\n",
    "Next, a density plot of residuals and summary stats of residuals"
   ]
  },
  {
   "cell_type": "code",
   "execution_count": 40,
   "id": "6081fb79",
   "metadata": {},
   "outputs": [
    {
     "data": {
      "image/png": "[encoded data removed]",
      "text/plain": [
       "<Figure size 432x288 with 1 Axes>"
      ]
     },
     "metadata": {
      "needs_background": "light"
     },
     "output_type": "display_data"
    },
    {
     "name": "stdout",
     "output_type": "stream",
     "text": [
      "                0\n",
      "count  906.000000\n",
      "mean     0.000005\n",
      "std      1.037701\n",
      "min     -1.343502\n",
      "25%     -0.693210\n",
      "50%     -0.172976\n",
      "75%      0.347258\n",
      "max      6.980241\n"
     ]
    }
   ],
   "source": [
    "residuals.plot(kind='kde')\n",
    "plt.show()\n",
    "\n",
    "print(residuals.describe())"
   ]
  },
  {
   "cell_type": "markdown",
   "id": "ddbd9659",
   "metadata": {},
   "source": [
    "The errors are Gaussian and appear to be centered on zero. A mean very close to 0 in the summary statistics points to no bias in the predictions."
   ]
  },
  {
   "cell_type": "markdown",
   "id": "92023ada",
   "metadata": {},
   "source": [
    "ARIMA model - this data is seasonal, so I'm assuming that the ARIMA won't work. But I want to run it to see the differences between it and a SARIMA model and see how it would go wrong when fed seasonal data "
   ]
  },
  {
   "cell_type": "markdown",
   "id": "4e4d4459",
   "metadata": {},
   "source": [
    "SARIMA model"
   ]
  }
 ],
 "metadata": {
  "kernelspec": {
   "display_name": "Python 3 (ipykernel)",
   "language": "python",
   "name": "python3"
  },
  "language_info": {
   "codemirror_mode": {
    "name": "ipython",
    "version": 3
   },
   "file_extension": ".py",
   "mimetype": "text/x-python",
   "name": "python",
   "nbconvert_exporter": "python",
   "pygments_lexer": "ipython3",
   "version": "3.8.8"
  }
 },
 "nbformat": 4,
 "nbformat_minor": 5
}
