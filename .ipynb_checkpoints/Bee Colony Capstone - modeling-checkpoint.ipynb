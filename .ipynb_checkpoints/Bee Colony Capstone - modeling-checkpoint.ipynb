{
 "cells": [
  {
   "cell_type": "markdown",
   "id": "a06d662e",
   "metadata": {},
   "source": [
    "Pull in the train and test sets created in preprocessing"
   ]
  },
  {
   "cell_type": "code",
   "execution_count": 12,
   "id": "e7d8b75d",
   "metadata": {},
   "outputs": [],
   "source": [
    "import pandas as pd\n",
    "\n",
    "X_train = pd.read_csv('X_train.csv')\n",
    "X_test = pd.read_csv('X_test.csv')\n",
    "y_train = pd.read_csv('y_train.csv')\n",
    "y_test = pd.read_csv('y_test.csv')\n",
    "bee_colony_data = pd.read_csv('bee_data_after_preprocessing.csv')"
   ]
  },
  {
   "cell_type": "markdown",
   "id": "3207793a",
   "metadata": {},
   "source": [
    "ARMA model (autoregression, moving average - not using differencing)\n",
    "\n",
    "First, check if the data is stationary using the Augmented Dickey Fuller test (I assume it's not because it's seasonal)."
   ]
  },
  {
   "cell_type": "code",
   "execution_count": 16,
   "id": "884c76cc",
   "metadata": {},
   "outputs": [
    {
     "name": "stdout",
     "output_type": "stream",
     "text": [
      "Augmented Dickey Fuller statistic: -6.509814\n",
      "p-value: 0.000000\n"
     ]
    }
   ],
   "source": [
    "from statsmodels.tsa.stattools import adfuller\n",
    "from numpy import log\n",
    "\n",
    "result = adfuller(bee_colony_data['Percent lost'].dropna())\n",
    "print('Augmented Dickey Fuller statistic: %f' % result[0])\n",
    "print('p-value: %f' % result[1])"
   ]
  },
  {
   "cell_type": "markdown",
   "id": "7870f332",
   "metadata": {},
   "source": [
    "Next, find out number of required AR terms by inspecting the autocorrelation plot (correlation between the series and its lag, after excluding the contributions from intermediate lags)"
   ]
  },
  {
   "cell_type": "code",
   "execution_count": 29,
   "id": "b9975124",
   "metadata": {},
   "outputs": [
    {
     "data": {
      "image/png": "[encoded data removed]",
      "text/plain": [
       "<Figure size 432x288 with 1 Axes>"
      ]
     },
     "metadata": {
      "needs_background": "light"
     },
     "output_type": "display_data"
    }
   ],
   "source": [
    "import matplotlib.pyplot as plt\n",
    "import numpy as np\n",
    "\n",
    "time_array = np.array(y_train['Percent lost'].values)\n",
    "pd.plotting.autocorrelation_plot(time_array)\n",
    "plt.show()"
   ]
  },
  {
   "cell_type": "markdown",
   "id": "429de28a",
   "metadata": {},
   "source": [
    "ARIMA model - this data is seasonal, so I'm assuming that the ARIMA won't work. But I want to run it to see the differences between it and a SARIMA model and see how it would go wrong when fed seasonal data"
   ]
  },
  {
   "cell_type": "markdown",
   "id": "dc467c72",
   "metadata": {},
   "source": [
    "SARIMA model"
   ]
  }
 ],
 "metadata": {
  "kernelspec": {
   "display_name": "Python 3 (ipykernel)",
   "language": "python",
   "name": "python3"
  },
  "language_info": {
   "codemirror_mode": {
    "name": "ipython",
    "version": 3
   },
   "file_extension": ".py",
   "mimetype": "text/x-python",
   "name": "python",
   "nbconvert_exporter": "python",
   "pygments_lexer": "ipython3",
   "version": "3.8.8"
  }
 },
 "nbformat": 4,
 "nbformat_minor": 5
}
